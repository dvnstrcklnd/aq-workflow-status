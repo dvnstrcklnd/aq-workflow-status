{
 "cells": [
  {
   "cell_type": "markdown",
   "metadata": {},
   "source": [
    "# 3-node summary\n",
    "\n",
    "* Many plans are stalled @ yeast QQC, before the glycerol stock\n",
    "* Some diploid definitions do not exist\n",
    "* there may be some additional constructs to build \n",
    "* for yeast transformation failure, check age of miniprep\n",
    "\n",
    "1. For yeast QC submission, there should be a way to search plans for subgraphs. You should also be able to force plans to submit subgraphs.\n",
    "2. For diploid definitions, we whould be able to look at every combination of **A** and **alpha** and determine the topology and categorize (which circuit and whether there is a strain definition already).\n",
    "3. Puppeteer plan???"
   ]
  },
  {
   "cell_type": "code",
   "execution_count": 3,
   "metadata": {},
   "outputs": [],
   "source": [
    "from mysession import production\n",
    "from pydent.planner import Planner\n",
    "from pydent.browser import Browser\n",
    "\n",
    "browser = Browser(production)"
   ]
  },
  {
   "cell_type": "code",
   "execution_count": 4,
   "metadata": {},
   "outputs": [],
   "source": [
    "import arrow\n",
    "utc = arrow.utcnow()\n",
    "local = utc.to('US/Pacific')\n",
    "date = local.format('YYYY-MM-DD')"
   ]
  },
  {
   "cell_type": "code",
   "execution_count": 5,
   "metadata": {},
   "outputs": [
    {
     "name": "stdout",
     "output_type": "stream",
     "text": [
      "1114\n"
     ]
    }
   ],
   "source": [
    "my_yeast = browser.where({\"user_id\": 66}, sample_type=\"Yeast Strain\")\n",
    "print(len(my_yeast))"
   ]
  },
  {
   "cell_type": "code",
   "execution_count": 6,
   "metadata": {},
   "outputs": [
    {
     "data": {
      "text/plain": [
       "{'user_id': 66,\n",
       " 'id': 27606,\n",
       " 'data': None,\n",
       " 'created_at': '2018-12-20T16:08:09.000-08:00',\n",
       " 'sample_type_id': 5,\n",
       " 'updated_at': '2018-12-20T16:08:09.000-08:00',\n",
       " 'name': 'CEN.PK2 - MAT A ::: pMOD4G-dcas9-mxi1 | pMOD-LTR2-Bleo-pGRR-W34W17-RGR-W19 | pMOD-LTR3-Hyg-pGRR-W19-RGR-W34 | pMOD6-pGRR-W19W5-RGR-W17 _X_ CEN.PK2 - MAT alpha ::: pMODKan-HO-pACT1-ZEV4 | pMOD8-pGALz4-RGR-W19 | pMOD6-pGRR-W34-yeGFP',\n",
       " 'project': 'hysteresis',\n",
       " 'description': '3-node bistable switch',\n",
       " 'rid': 1015}"
      ]
     },
     "execution_count": 6,
     "metadata": {},
     "output_type": "execute_result"
    }
   ],
   "source": [
    "my_yeast[-100].dump()"
   ]
  },
  {
   "cell_type": "code",
   "execution_count": 7,
   "metadata": {},
   "outputs": [
    {
     "name": "stdout",
     "output_type": "stream",
     "text": [
      "{\"level\": \"3\", \"design\": \"g2\", \"total\": 3}\n",
      "3-node bistable switch\n",
      "3-node bistable switch\n"
     ]
    }
   ],
   "source": [
    "def filter_yeast_by_parts(parts_list):\n",
    "    samples = browser.search(parts_list[0])\n",
    "    found = []\n",
    "    for sample in samples:\n",
    "        if all([part in sample.name for part in parts_list]):\n",
    "            found.append(sample)\n",
    "    return found\n",
    "\n",
    "\n",
    "\n",
    "found = filter_yeast_by_parts([\"pMOD-LTR2-Bleo-pGRR-W20W10-RGR-W8\", \"pMOD8-pGRR-W8-RGR-W10\", \"pMOD-HOKan-pGRR-W8-RGR-W20\"])\n",
    "for s in found:\n",
    "    print(s.description)"
   ]
  },
  {
   "cell_type": "markdown",
   "metadata": {},
   "source": [
    "Collect all yeast strains with a JSON description\n",
    "Diploids have a non-JSON description with"
   ]
  },
  {
   "cell_type": "code",
   "execution_count": 8,
   "metadata": {},
   "outputs": [],
   "source": [
    "import json\n",
    "\n",
    "final_designs = []\n",
    "designs = []\n",
    "for yeast in my_yeast:\n",
    "    try:\n",
    "        description_json = json.loads(yeast.description)\n",
    "    except:\n",
    "        if \"3-node\" in yeast.description:\n",
    "            final_designs.append(yeast)\n",
    "        else:\n",
    "            continue\n",
    "    \n",
    "    designs.append(yeast)\n",
    "    \n",
    "all_yeasts = final_designs + designs"
   ]
  },
  {
   "cell_type": "code",
   "execution_count": 9,
   "metadata": {},
   "outputs": [
    {
     "name": "stdout",
     "output_type": "stream",
     "text": [
      "DEPTH: 0\n",
      "NUM YEASTS: 467\n",
      "\n",
      "DEPTH: 1\n",
      "NUM YEASTS: 235\n",
      "\n",
      "DEPTH: 2\n",
      "NUM YEASTS: 4\n",
      "\n",
      "DEPTH: 3\n",
      "NUM YEASTS: 2\n",
      "\n",
      "DEPTH: 4\n",
      "NUM YEASTS: 0\n",
      "\n"
     ]
    }
   ],
   "source": [
    "def recursive_find_parents(yeasts, visited=None, depth=0, max_depth=10):\n",
    "    print(\"DEPTH: {}\".format(depth))\n",
    "    print(\"NUM YEASTS: {}\".format(len(yeasts)))\n",
    "    print()\n",
    "    if not yeasts:\n",
    "        return []\n",
    "    if visited is None:\n",
    "        visited = set()\n",
    "    if depth > max_depth:\n",
    "        return yeasts\n",
    "    yeasts = [y for y in yeasts if y and y.id not in visited]\n",
    "    browser.recursive_retrieve(yeasts, {'field_values': 'sample'})\n",
    "    visited = visited.union(set(y.id for y in yeasts))\n",
    "    parents = []\n",
    "\n",
    "    for y in yeasts:\n",
    "        if 'Parent' in y.properties:\n",
    "            parent = y.properties['Parent']\n",
    "            if parent and parent not in parents:\n",
    "                parents.append(parent)\n",
    "        if y.properties['Mating Type'] == 'Diploid':\n",
    "            haploids = y.properties['Haploids']\n",
    "            for h in haploids:\n",
    "                if h not in parents:\n",
    "                    parents.append(h)\n",
    "            \n",
    "    yeasts += recursive_find_parents(parents, visited, depth+1, max_depth=max_depth)\n",
    "    return yeasts\n",
    "\n",
    "yeasts = recursive_find_parents(all_yeasts)"
   ]
  },
  {
   "cell_type": "code",
   "execution_count": 10,
   "metadata": {},
   "outputs": [
    {
     "data": {
      "text/plain": [
       "[<pydent.models.Sample at 0xa23dc5240>, <pydent.models.Sample at 0xa23dc5360>]"
      ]
     },
     "execution_count": 10,
     "metadata": {},
     "output_type": "execute_result"
    }
   ],
   "source": [
    "yeasts[0].properties['Haploids']"
   ]
  },
  {
   "cell_type": "markdown",
   "metadata": {},
   "source": []
  },
  {
   "cell_type": "code",
   "execution_count": 28,
   "metadata": {},
   "outputs": [
    {
     "data": {
      "image/png": "[encoded data removed]",
      "text/plain": [
       "<Figure size 432x288 with 1 Axes>"
      ]
     },
     "metadata": {},
     "output_type": "display_data"
    }
   ],
   "source": [
    "import networkx as nx\n",
    "%matplotlib inline\n",
    "\n",
    "\n",
    "g = nx.DiGraph()\n",
    "\n",
    "edges = []\n",
    "for yeast in yeasts:\n",
    "    g.add_node(yeast.id, sample=yeast)\n",
    "    parent = yeast.properties['Parent']\n",
    "    if parent:\n",
    "        g.add_node(parent.id, sample=parent)\n",
    "        g.add_edge(parent.id, yeast.id)\n",
    "        edges.append((parent.id, yeast.id))\n",
    "    mating_type = yeast.properties['Mating Type']\n",
    "    if mating_type:\n",
    "        haploids = yeast.properties['Haploids']\n",
    "        for h in haploids:\n",
    "            g.add_node(h.id, sample=h)\n",
    "            g.add_edge(h.id, yeast.id)\n",
    "\n",
    "shortest_paths = list(nx.all_pairs_shortest_path(g))\n",
    "\n",
    "nx.draw(g)"
   ]
  },
  {
   "cell_type": "code",
   "execution_count": 57,
   "metadata": {},
   "outputs": [
    {
     "name": "stderr",
     "output_type": "stream",
     "text": [
      "\n",
      " 54%|█████▍    | 195/361 [00:21<00:18,  9.18it/s]\u001b[A"
     ]
    },
    {
     "data": {
      "text/plain": [
       "[<pydent.models.ObjectType at 0xa26d6df30>,\n",
       " <pydent.models.ObjectType at 0xa26d6dc60>,\n",
       " <pydent.models.ObjectType at 0xa26a6fa68>,\n",
       " <pydent.models.ObjectType at 0xa26a6f900>,\n",
       " <pydent.models.ObjectType at 0xa26a6fe58>,\n",
       " <pydent.models.ObjectType at 0xa2458d288>,\n",
       " <pydent.models.ObjectType at 0xa2712db40>,\n",
       " <pydent.models.ObjectType at 0xa2712db88>,\n",
       " <pydent.models.ObjectType at 0xa271c11f8>,\n",
       " <pydent.models.ObjectType at 0xa271c1318>,\n",
       " <pydent.models.ObjectType at 0xa271c1438>]"
      ]
     },
     "execution_count": 57,
     "metadata": {},
     "output_type": "execute_result"
    }
   ],
   "source": [
    "## collect items (run only once)\n",
    "production.set_timeout(120)\n",
    "items = browser.recursive_retrieve(yeasts, {\"items\": \"object_type\"})\n",
    "\n",
    "items = []\n",
    "for y in yeasts:\n",
    "    for i in y.items:\n",
    "        items.append(i)\n",
    "\n",
    "browser.retrieve(items, \"object_type\")\n",
    "\n",
    "## collect operations for each yeast (run only once)\n",
    "# from tqdm import tqdm\n",
    "# field_values = browser.where({\"child_sample_id\": [y.id for y in yeasts]}, model_class=\"FieldValue\")\n",
    "# ops = browser.recursive_retrieve(field_values, {'operation': 'operation_type'})\n",
    "# from collections import defaultdict\n",
    "# d = defaultdict(list)\n",
    "# for fv in field_values:\n",
    "#     d[fv.child_sample_id].append(fv.operation)\n",
    "# for y in yeasts:\n",
    "#     y.operations = d[y.id][:]"
   ]
  },
  {
   "cell_type": "code",
   "execution_count": 68,
   "metadata": {},
   "outputs": [
    {
     "data": {
      "text/plain": [
       "<pydent.models.Sample at 0xa23dc5480>"
      ]
     },
     "execution_count": 68,
     "metadata": {},
     "output_type": "execute_result"
    }
   ],
   "source": [
    "production.set_verbose(True)\n",
    "\n",
    "g.nodes[yeasts[0].id]['sample']"
   ]
  },
  {
   "cell_type": "code",
   "execution_count": 81,
   "metadata": {},
   "outputs": [
    {
     "name": "stderr",
     "output_type": "stream",
     "text": [
      "2019-05-14 13:33:40,853 - AqHTTP@http://52.27.43.242/ - INFO - BODY: {'arguments': {'name': 'design_module_0 | pMOD8-pGALZ4-URGR-W17'},\n",
      " 'method': 'where',\n",
      " 'model': 'Sample',\n",
      " 'options': {'limit': '-1', 'offset': '-1', 'reverse': 'False'}}\n"
     ]
    }
   ],
   "source": [
    "y = browser.find_by_name('design_module_0 | pMOD8-pGALZ4-URGR-W17')"
   ]
  },
  {
   "cell_type": "code",
   "execution_count": 82,
   "metadata": {},
   "outputs": [
    {
     "data": {
      "text/plain": [
       "False"
      ]
     },
     "execution_count": 82,
     "metadata": {},
     "output_type": "execute_result"
    }
   ],
   "source": [
    "is_finished(y)"
   ]
  },
  {
   "cell_type": "code",
   "execution_count": 83,
   "metadata": {},
   "outputs": [
    {
     "data": {
      "text/plain": [
       "[]"
      ]
     },
     "execution_count": 83,
     "metadata": {},
     "output_type": "execute_result"
    }
   ],
   "source": [
    "has_items(y)"
   ]
  },
  {
   "cell_type": "code",
   "execution_count": 85,
   "metadata": {},
   "outputs": [
    {
     "name": "stderr",
     "output_type": "stream",
     "text": [
      "\n",
      "\n",
      "\n",
      "  0%|          | 0/361 [00:00<?, ?it/s]\u001b[A\u001b[A\u001b[A\n",
      "\n",
      "\n",
      "100%|██████████| 361/361 [00:00<00:00, 969.05it/s]\u001b[A\u001b[A\u001b[A"
     ]
    }
   ],
   "source": [
    "import pandas as pd\n",
    "\n",
    "summary_rows = []\n",
    "summary_dicts = []\n",
    "\n",
    "def has_items(yeast):\n",
    "    sample_items = [i for i in yeast.items if i.location != 'deleted']\n",
    "    sample_items = [i for i in sample_items if not i.is_part]\n",
    "    return sample_items\n",
    "    \n",
    "def is_finished(yeast):\n",
    "    items = has_items(yeast)\n",
    "    filtered = [i for i in items if i.object_type.name in ['Yeast Glycerol Stock', 'Yeast Competent Cell']]\n",
    "    if filtered:\n",
    "        return True\n",
    "    return False   \n",
    "\n",
    "def path_is_finished(g, nodes):\n",
    "    finished_arr = []\n",
    "    for n in nodes:\n",
    "        sample = g.node[n]['sample']\n",
    "        finished_arr.append(is_finished(sample))\n",
    "    return all(finished_arr)\n",
    "\n",
    "\n",
    "from tqdm import tqdm\n",
    "\n",
    "for path in tqdm(shortest_paths, mininterval=3):\n",
    "    source = path[0]\n",
    "    destinations = list(path[1].keys())\n",
    "    number_of_dependents = len(destinations)\n",
    "    paths = path[1]\n",
    "    \n",
    "    paths = {k: v for k, v in paths.items() if len(v) > 1 and not path_is_finished(g, v)}\n",
    "    if not paths:\n",
    "        continue\n",
    "    \n",
    "    yeast_sample = g.node[source][\"sample\"]\n",
    "    sample_items = has_items(yeast_sample)\n",
    "    target_depths = [len(p) for p in paths.values()]\n",
    "        \n",
    "    \n",
    "    row_dict = {\n",
    "        \"sample_name\": yeast_sample.name,\n",
    "        \"sample_id\": yeast_sample.id,\n",
    "        \"description\": yeast_sample.description,\n",
    "        \"number_of_dependents\": number_of_dependents,\n",
    "        \"target_depths\": target_depths,\n",
    "        \"maximum_depth\": max(target_depths),\n",
    "        'finished': is_finished(yeast_sample),\n",
    "        \"targets\": list(paths.keys()),\n",
    "        \"has_items\": len(sample_items) > 0,\n",
    "        \"item_types\": list(set([i.object_type.name for i in sample_items]))\n",
    "    }\n",
    "    summary_rows.append(row_dict)\n",
    "    _row_dict = dict(row_dict)\n",
    "    _row_dict.update({'yeast': yeast_sample})\n",
    "    summary_dicts.append(_row_dict)\n",
    "    \n",
    "    \n",
    "    \n",
    "df = pd.DataFrame(summary_rows)\n",
    "df.to_csv(\"3NodeSummary_{}.csv\".format(date))"
   ]
  },
  {
   "cell_type": "markdown",
   "metadata": {},
   "source": [
    "## Get Remaining Progress for circuits"
   ]
  },
  {
   "cell_type": "code",
   "execution_count": 97,
   "metadata": {},
   "outputs": [
    {
     "data": {
      "text/plain": [
       "(27544, {27544: [27544]})"
      ]
     },
     "execution_count": 97,
     "metadata": {},
     "output_type": "execute_result"
    }
   ],
   "source": [
    "def leaves(g):\n",
    "    l = []\n",
    "    for n in g.nodes:\n",
    "        if not list(g.successors(n)):\n",
    "            l.append(n)\n",
    "    return l\n",
    "\n",
    "def roots(g):\n",
    "    r = []\n",
    "    for n in g.nodes:\n",
    "        if not list(g.predecessors(n)):\n",
    "            r.append(n)\n",
    "    return r\n",
    "\n"
   ]
  },
  {
   "cell_type": "code",
   "execution_count": 100,
   "metadata": {},
   "outputs": [
    {
     "data": {
      "text/plain": [
       "'CEN.PK2 - MAT A ::: pMOD4G-dcas9-mxi1 | pMOD-HOKan-pGRR-W20-RGR-W34 | pMOD6-leu-pGRR-W5W34-RGR-W20 | pMOD6-pGRR-W20-RGR-W5 _X_ CEN.PK2 - MAT alpha ::: pMODKan-HO-pACT1-ZEV4 | pMOD8-pGALZ4-URGR-W20 | pMOD6-pGRR-W34-yeGFP'"
      ]
     },
     "execution_count": 100,
     "metadata": {},
     "output_type": "execute_result"
    }
   ],
   "source": [
    "g.node[shortest_paths[0][0]]['sample'].name"
   ]
  },
  {
   "cell_type": "code",
   "execution_count": 112,
   "metadata": {},
   "outputs": [],
   "source": [
    "# _g = nx.bfs_tree(g, shortest_paths[2][0])\n",
    "# nx.draw(_g)\n",
    "rg = g.reverse()"
   ]
  },
  {
   "cell_type": "code",
   "execution_count": 113,
   "metadata": {},
   "outputs": [],
   "source": [
    "leaf_nodes = leaves(g)"
   ]
  },
  {
   "cell_type": "code",
   "execution_count": 157,
   "metadata": {},
   "outputs": [
    {
     "data": {
      "text/plain": [
       "[(27556, 50.0),\n",
       " (27557, 50.0),\n",
       " (27561, 50.0),\n",
       " (27565, 50.0),\n",
       " (27544, 60.0),\n",
       " (27545, 60.0),\n",
       " (27550, 60.0),\n",
       " (27552, 60.0),\n",
       " (27554, 60.0),\n",
       " (27563, 60.0),\n",
       " (27566, 60.0),\n",
       " (27568, 60.0),\n",
       " (27570, 60.0),\n",
       " (27572, 60.0),\n",
       " (27616, 60.0),\n",
       " (27648, 60.0),\n",
       " (27649, 60.0),\n",
       " (27650, 60.0),\n",
       " (27652, 60.0),\n",
       " (27653, 60.0),\n",
       " (27654, 60.0),\n",
       " (27655, 60.0),\n",
       " (27656, 60.0),\n",
       " (27657, 60.0),\n",
       " (27658, 60.0),\n",
       " (27659, 60.0),\n",
       " (27661, 60.0),\n",
       " (27662, 60.0),\n",
       " (27663, 60.0),\n",
       " (27664, 60.0),\n",
       " (27665, 60.0),\n",
       " (27666, 60.0),\n",
       " (27667, 60.0),\n",
       " (27668, 60.0),\n",
       " (27670, 60.0),\n",
       " (27672, 60.0),\n",
       " (27546, 70.0),\n",
       " (27547, 70.0),\n",
       " (27548, 70.0),\n",
       " (27549, 70.0),\n",
       " (27551, 70.0),\n",
       " (27558, 70.0),\n",
       " (27571, 70.0),\n",
       " (27573, 70.0),\n",
       " (27581, 70.0),\n",
       " (27582, 70.0),\n",
       " (27586, 70.0),\n",
       " (27588, 70.0),\n",
       " (27596, 70.0),\n",
       " (27597, 70.0),\n",
       " (27599, 70.0),\n",
       " (27605, 70.0),\n",
       " (27606, 70.0),\n",
       " (27607, 70.0),\n",
       " (27610, 70.0),\n",
       " (27611, 70.0),\n",
       " (27612, 70.0),\n",
       " (27613, 70.0),\n",
       " (27614, 70.0),\n",
       " (27619, 70.0),\n",
       " (27622, 70.0),\n",
       " (27623, 70.0),\n",
       " (27624, 70.0),\n",
       " (27625, 70.0),\n",
       " (27626, 70.0),\n",
       " (27627, 70.0),\n",
       " (27628, 70.0),\n",
       " (27630, 70.0),\n",
       " (27633, 70.0),\n",
       " (27634, 70.0),\n",
       " (27635, 70.0),\n",
       " (27636, 70.0),\n",
       " (27637, 70.0),\n",
       " (27638, 70.0),\n",
       " (27639, 70.0),\n",
       " (27641, 70.0),\n",
       " (27642, 70.0),\n",
       " (27644, 70.0),\n",
       " (27645, 70.0),\n",
       " (27646, 70.0),\n",
       " (27679, 70.0),\n",
       " (27680, 70.0),\n",
       " (27682, 70.0),\n",
       " (27553, 80.0),\n",
       " (27569, 80.0),\n",
       " (27575, 80.0),\n",
       " (27576, 80.0),\n",
       " (27577, 80.0),\n",
       " (27578, 80.0),\n",
       " (27579, 80.0),\n",
       " (27580, 80.0),\n",
       " (27584, 80.0),\n",
       " (27585, 80.0),\n",
       " (27587, 80.0),\n",
       " (27590, 80.0),\n",
       " (27591, 80.0),\n",
       " (27592, 80.0),\n",
       " (27593, 80.0),\n",
       " (27594, 80.0),\n",
       " (27595, 80.0),\n",
       " (27602, 80.0),\n",
       " (27603, 80.0),\n",
       " (27604, 80.0),\n",
       " (27608, 80.0),\n",
       " (27617, 80.0),\n",
       " (27620, 80.0),\n",
       " (27621, 80.0),\n",
       " (27631, 80.0),\n",
       " (27632, 80.0),\n",
       " (27676, 80.0),\n",
       " (27681, 80.0),\n",
       " (27685, 80.0),\n",
       " (27687, 80.0),\n",
       " (27689, 80.0),\n",
       " (27691, 80.0),\n",
       " (27693, 80.0),\n",
       " (27677, 90.0),\n",
       " (27674, 100.0),\n",
       " (27675, 100.0),\n",
       " (27684, 100.0),\n",
       " (27686, 100.0),\n",
       " (27688, 100.0)]"
      ]
     },
     "execution_count": 157,
     "metadata": {},
     "output_type": "execute_result"
    }
   ],
   "source": [
    "def progress_summary(g):\n",
    "    leaf_nodes = leaves(g)\n",
    "    \n",
    "    summary_arr = []\n",
    "    \n",
    "    for lf in leaf_nodes:\n",
    "        _g = nx.bfs_tree(g, lf, reverse=True)\n",
    "        nodes = list(_g.nodes())\n",
    "\n",
    "        node_colors = []\n",
    "        percent_complete = 0\n",
    "        for n in nodes:\n",
    "            sample = g.node[n]['sample']\n",
    "            if is_finished(sample):\n",
    "                node_colors.append('blue')\n",
    "                percent_complete += 100./len(nodes)\n",
    "            else:\n",
    "                node_colors.append('red')\n",
    "        summary_arr.append((lf, percent_complete))\n",
    "    return sorted(summary_arr, key=lambda x: x[1])\n",
    "\n",
    "summary = progress_summary(g)\n",
    "summary = [x for x in summary if g.node[x[0]]['sample'].properties['Mating Type'] == 'Diploid']\n",
    "# summary = [x for x in summary if x[1] >= 80]\n",
    "summary\n",
    "#         nx.draw(_g.reverse(), node_color=node_colors)"
   ]
  },
  {
   "cell_type": "code",
   "execution_count": 190,
   "metadata": {},
   "outputs": [],
   "source": [
    "from copy import deepcopy\n",
    "\n",
    "def to_undirected(graph):\n",
    "    \"\"\".to_undirected is implemented in networkx out of the box, however, it\n",
    "    suffers from occational infinite recursion errors during the deepcopy phase\n",
    "    of the method (unknown as to why). \"\"\"\n",
    "    undirected = nx.Graph()\n",
    "    copied = deepcopy(graph)\n",
    "    for n in copied.nodes:\n",
    "        ndata = copied.node[n]\n",
    "        undirected.add_node(n, **ndata)\n",
    "    for n1, n2 in copied.edges:\n",
    "        edata = copied.edges[n1, n2]\n",
    "        undirected.add_edge(n1, n2, **edata)\n",
    "    return undirected\n",
    "\n",
    "\n",
    "def get_subgraphs(graph, node_list=None):\n",
    "    \"\"\"Get independent subgraphs\"\"\"\n",
    "    if node_list is None:\n",
    "        node_list = list(graph.nodes)\n",
    "    subgraphs = []\n",
    "    while len(node_list) > 0:\n",
    "        node = node_list[-1]\n",
    "        subgraph = nx.bfs_tree(to_undirected(graph), node)\n",
    "        for n in subgraph.nodes:\n",
    "            if n in node_list:\n",
    "                node_list.remove(n)\n",
    "        subgraphs.append(graph.subgraph(subgraph.nodes))\n",
    "    return subgraphs\n",
    "\n",
    "\n",
    "unfinished_graph = g.subgraph([n for n in _g.nodes if not is_finished(g.node[n]['sample'])])\n",
    "graphs = get_subgraphs(unfinished_graph, [n for n, p in summary if n in unfinished_graph and p >=80])"
   ]
  },
  {
   "cell_type": "markdown",
   "metadata": {},
   "source": [
    "These are all of the samples that are very close (>80%) to being completed. Root nodes have a parent that has a yeast glycerol stock. Iterate through this graph using Terrarium to plan these strains."
   ]
  },
  {
   "cell_type": "code",
   "execution_count": 196,
   "metadata": {},
   "outputs": [
    {
     "name": "stdout",
     "output_type": "stream",
     "text": [
      "CEN.PK2 - MAT A ::: pMOD4G-dcas9-mxi1 | pMOD-LTR1-NatMx-pGRR-W5-RGR-W19 | pMOD6-pGRR-W19W5-RGR-W17 | pMOD8-pGRR-W19W17-RGR-W5 _X_ CEN.PK2 - MAT alpha ::: pMODKan-HO-pACT1-ZEV4 | pMOD8-pGALZ4-URGR-W5 | pMOD6-pGRR-W19-yeGFP\n"
     ]
    },
    {
     "data": {
      "image/png": "[encoded data removed]",
      "text/plain": [
       "<Figure size 216x216 with 1 Axes>"
      ]
     },
     "metadata": {
      "needs_background": "light"
     },
     "output_type": "display_data"
    },
    {
     "name": "stdout",
     "output_type": "stream",
     "text": [
      "CEN.PK2 - MAT A ::: pMOD4G-dcas9-mxi1 | pMOD-LTR1-Nat-pGRR-W5W8-URGR-F1 | pMOD-LTR2-Bleo-pGRR-F1W10-RGR-W8 | pMOD8-pGRR-W8-RGR-W10\n",
      "CEN.PK2 - MAT A ::: pMOD4G-dcas9-mxi1 | pMOD-LTR1-Nat-pGRR-W5W8-URGR-F1 | pMOD-LTR2-Bleo-pGRR-F1W10-RGR-W8 | pMOD8-pGRR-W8-RGR-W10 _X_ CEN.PK2 - MAT alpha ::: pMODKan-HO-pACT1-ZEV4 | pMOD8-pGALZ4-URGR-W8 | pMOD6-pGRR-F1-yeGFP\n",
      "CEN.PK2 - MAT A ::: pMOD4G-dcas9-mxi1 | pMOD-LTR1-Nat-pGRR-W5W8-URGR-F1 | pMOD-LTR2-Bleo-pGRR-F1W10-RGR-W8 | pMOD8-pGRR-W8-RGR-W10 _X_ CEN.PK2 - MAT alpha ::: pMODKan-HO-pACT1-ZEV4 | pMOD8-pGALZ4-RGR-W8 | pMOD6-pGRR-F1-yeGFP\n"
     ]
    },
    {
     "data": {
      "image/png": "[encoded data removed]",
      "text/plain": [
       "<Figure size 216x216 with 1 Axes>"
      ]
     },
     "metadata": {
      "needs_background": "light"
     },
     "output_type": "display_data"
    },
    {
     "name": "stdout",
     "output_type": "stream",
     "text": [
      "CEN.PK2 - MAT A ::: pMOD4G-dcas9-mxi1 | pMOD-HOKan-pGRR-W8W36-RGR-W20 | pMOD-LTR2-Bleo-pGRR-W20W8-RGR-W36 | pMOD6-pGRR-W36-RGR-W8 _X_ CEN.PK2 - MAT alpha ::: pMODKan-HO-pACT1-ZEV4 | pMOD8-pGALZ4-URGR-W36 | pMOD6-pGRR-W8-yeGFP\n",
      "CEN.PK2 - MAT A ::: pMOD4G-dcas9-mxi1 | pMOD-HOKan-pGRR-W8W36-RGR-W20 | pMOD-LTR2-Bleo-pGRR-W20W8-RGR-W36 | pMOD6-pGRR-W36-RGR-W8\n"
     ]
    },
    {
     "data": {
      "image/png": "[encoded data removed]",
      "text/plain": [
       "<Figure size 216x216 with 1 Axes>"
      ]
     },
     "metadata": {
      "needs_background": "light"
     },
     "output_type": "display_data"
    },
    {
     "name": "stdout",
     "output_type": "stream",
     "text": [
      "CEN.PK2 - MAT A ::: pMOD4G-dcas9-mxi1 | pMOD-HOKan-pGRR-W36W8-RGR-W20 | pMOD-LTR2-Bleo-pGRR-W20W8-RGR-W36 | pMOD6-pGRR-W36-RGR-W8 _X_ CEN.PK2 - MAT alpha ::: pMODKan-HO-pACT1-ZEV4 | pMOD8-pGALZ4-URGR-W36 | pMOD6-pGRR-W8-yeGFP\n",
      "CEN.PK2 - MAT A ::: pMOD4G-dcas9-mxi1 | pMOD-HOKan-pGRR-W36W8-RGR-W20 | pMOD-LTR2-Bleo-pGRR-W20W8-RGR-W36 | pMOD6-pGRR-W36-RGR-W8\n"
     ]
    },
    {
     "data": {
      "image/png": "[encoded data removed]",
      "text/plain": [
       "<Figure size 216x216 with 1 Axes>"
      ]
     },
     "metadata": {
      "needs_background": "light"
     },
     "output_type": "display_data"
    },
    {
     "name": "stdout",
     "output_type": "stream",
     "text": [
      "CEN.PK2 - MAT A ::: pMOD4G-dcas9-mxi1 | pMOD-HO-Leu2-pGRR-W8W36-RGR-W20 | pMOD-LTR2-Bleo-pGRR-W20W8-RGR-W36 | pMOD6-pGRR-W36-RGR-W8\n",
      "CEN.PK2 - MAT A ::: pMOD4G-dcas9-mxi1 | pMOD-HO-Leu2-pGRR-W8W36-RGR-W20 | pMOD-LTR2-Bleo-pGRR-W20W8-RGR-W36 | pMOD6-pGRR-W36-RGR-W8 _X_ CEN.PK2 - MAT alpha ::: pMODKan-HO-pACT1-ZEV4 | pMOD8-pGALZ4-URGR-W36 | pMOD6-pGRR-W8-yeGFP\n"
     ]
    },
    {
     "data": {
      "image/png": "[encoded data removed]",
      "text/plain": [
       "<Figure size 216x216 with 1 Axes>"
      ]
     },
     "metadata": {
      "needs_background": "light"
     },
     "output_type": "display_data"
    },
    {
     "name": "stdout",
     "output_type": "stream",
     "text": [
      "CEN.PK2 - MAT A ::: pMOD4G-dcas9-mxi1 | pMOD-LTR2-Bleo-pGRR-W34W17-RGR-W19 | pMOD6-pGRR-W5W19-RGR-W17 | pMOD8-pGRR-W19W17-RGR-W5\n",
      "CEN.PK2 - MAT A ::: pMOD4G-dcas9-mxi1 | pMOD-LTR2-Bleo-pGRR-W34W17-RGR-W19 | pMOD6-pGRR-W5W19-RGR-W17 | pMOD8-pGRR-W19W17-RGR-W5 _X_ CEN.PK2 - MAT alpha ::: pMODKan-HO-pACT1-ZEV4 | pMOD8-pGALZ4-URGR-W17 | pMOD6-pGRR-W19-yeGFP\n"
     ]
    },
    {
     "data": {
      "image/png": "[encoded data removed]",
      "text/plain": [
       "<Figure size 216x216 with 1 Axes>"
      ]
     },
     "metadata": {
      "needs_background": "light"
     },
     "output_type": "display_data"
    },
    {
     "name": "stdout",
     "output_type": "stream",
     "text": [
      "CEN.PK2 - MAT A ::: pMOD4G-dcas9-mxi1 | pMOD-LTR1-NatMx-pGRR-W5-RGR-W19 | pMOD6-pGRR-W5W19-RGR-W17 | pMOD8-pGRR-W19W17-RGR-W5\n",
      "CEN.PK2 - MAT A ::: pMOD4G-dcas9-mxi1 | pMOD-LTR1-NatMx-pGRR-W5-RGR-W19 | pMOD6-pGRR-W5W19-RGR-W17 | pMOD8-pGRR-W19W17-RGR-W5 _X_ CEN.PK2 - MAT alpha ::: pMODKan-HO-pACT1-ZEV4 | pMOD8-pGALZ4-URGR-W5 | pMOD6-pGRR-W19-yeGFP\n"
     ]
    },
    {
     "data": {
      "image/png": "[encoded data removed]",
      "text/plain": [
       "<Figure size 216x216 with 1 Axes>"
      ]
     },
     "metadata": {
      "needs_background": "light"
     },
     "output_type": "display_data"
    },
    {
     "name": "stdout",
     "output_type": "stream",
     "text": [
      "CEN.PK2 - MAT A ::: pMOD4G-dcas9-mxi1 | pMOD-HOKan-pGRR-W8-RGR-W20 | pMOD-LTR1-NatMX-pGRR-W8-RGR-W10 | pMOD-LTR2-Bleo-pGRR-W20W10-RGR-W8 _X_ CEN.PK2 - MAT alpha ::: pMODKan-HO-pACT1-ZEV4 | pMOD8-pGALZ4-RGR-W8 | pMOD6-pGRR-W20-yeGFP\n",
      "CEN.PK2 - MAT A ::: pMOD4G-dcas9-mxi1 | pMOD-HOKan-pGRR-W8-RGR-W20 | pMOD-LTR1-NatMX-pGRR-W8-RGR-W10 | pMOD-LTR2-Bleo-pGRR-W20W10-RGR-W8\n",
      "CEN.PK2 - MAT A ::: pMOD4G-dcas9-mxi1 | pMOD-HOKan-pGRR-W8-RGR-W20 | pMOD-LTR1-NatMX-pGRR-W8-RGR-W10 | pMOD-LTR2-Bleo-pGRR-W20W10-RGR-W8 _X_ CEN.PK2 - MAT alpha ::: pMODKan-HO-pACT1-ZEV4 | pMOD8-pGALZ4-URGR-W8 | pMOD6-pGRR-W20-yeGFP\n"
     ]
    },
    {
     "data": {
      "image/png": "[encoded data removed]",
      "text/plain": [
       "<Figure size 216x216 with 1 Axes>"
      ]
     },
     "metadata": {
      "needs_background": "light"
     },
     "output_type": "display_data"
    },
    {
     "name": "stdout",
     "output_type": "stream",
     "text": [
      "CEN.PK2 - MAT A ::: pMOD4G-dcas9-mxi1 | pMOD-HOKan-pGRR-W8W36-RGR-W20 | pMOD-LTR1-NatMX-pGRR-W8-RGR-W10 | pMOD-LTR2-Bleo-pGRR-W20W10-RGR-W8 _X_ CEN.PK2 - MAT alpha ::: pMODKan-HO-pACT1-ZEV4 | pMOD8-pGALZ4-URGR-W8 | pMOD6-pGRR-W20-yeGFP\n",
      "CEN.PK2 - MAT A ::: pMOD4G-dcas9-mxi1 | pMOD-HOKan-pGRR-W8W36-RGR-W20 | pMOD-LTR1-NatMX-pGRR-W8-RGR-W10 | pMOD-LTR2-Bleo-pGRR-W20W10-RGR-W8\n",
      "CEN.PK2 - MAT A ::: pMOD4G-dcas9-mxi1 | pMOD-HOKan-pGRR-W8W36-RGR-W20 | pMOD-LTR1-NatMX-pGRR-W8-RGR-W10 | pMOD-LTR2-Bleo-pGRR-W20W10-RGR-W8 _X_ CEN.PK2 - MAT alpha ::: pMODKan-HO-pACT1-ZEV4 | pMOD8-pGALZ4-RGR-W8 | pMOD6-pGRR-W20-yeGFP\n"
     ]
    },
    {
     "data": {
      "image/png": "[encoded data removed]",
      "text/plain": [
       "<Figure size 216x216 with 1 Axes>"
      ]
     },
     "metadata": {
      "needs_background": "light"
     },
     "output_type": "display_data"
    },
    {
     "name": "stdout",
     "output_type": "stream",
     "text": [
      "CEN.PK2 - MAT A ::: pMOD4G-dcas9-mxi1 | pMOD-LTR1-Nat-pGRR-W36-RGR-W8 | pMOD-LTR2-Bleo-pGRR-W20W8-RGR-W36 | pMOD6-pGRR-W36-RGR-W20 _X_ CEN.PK2 - MAT alpha ::: pMODKan-HO-pACT1-ZEV4 | pMOD8-pGALZ4-URGR-W36 | pMOD6-pGRR-W20-yeGFP\n",
      "CEN.PK2 - MAT A ::: pMOD4G-dcas9-mxi1 | pMOD-LTR1-Nat-pGRR-W36-RGR-W8 | pMOD-LTR2-Bleo-pGRR-W20W8-RGR-W36 | pMOD6-pGRR-W36-RGR-W20\n"
     ]
    },
    {
     "data": {
      "image/png": "[encoded data removed]",
      "text/plain": [
       "<Figure size 216x216 with 1 Axes>"
      ]
     },
     "metadata": {
      "needs_background": "light"
     },
     "output_type": "display_data"
    },
    {
     "name": "stdout",
     "output_type": "stream",
     "text": [
      "CEN.PK2 - MAT A ::: pMOD4G-dcas9-mxi1 | pMOD-LTR1-Nat-pGRR-W19-RGR-W34 | pMOD-LTR2-Bleo-pGRR-W34W17-RGR-W19 | pMOD8-pGRR-W19-RGR-W17 _X_ CEN.PK2 - MAT alpha ::: pMODKan-HO-pACT1-ZEV4 | pMOD8-pGALz4-RGR-W19 | pMOD6-pGRR-W34-yeGFP\n",
      "CEN.PK2 - MAT A ::: pMOD4G-dcas9-mxi1 | pMOD-LTR1-Nat-pGRR-W19-RGR-W34 | pMOD-LTR2-Bleo-pGRR-W34W17-RGR-W19 | pMOD8-pGRR-W19-RGR-W17\n"
     ]
    },
    {
     "data": {
      "image/png": "[encoded data removed]",
      "text/plain": [
       "<Figure size 216x216 with 1 Axes>"
      ]
     },
     "metadata": {
      "needs_background": "light"
     },
     "output_type": "display_data"
    },
    {
     "name": "stdout",
     "output_type": "stream",
     "text": [
      "CEN.PK2 - MAT A ::: pMOD4G-dcas9-mxi1 | pMOD-LTR1-Kanmx-pGRR-W19-RGR-W34 | pMOD-LTR2-Bleo-pGRR-W34W17-RGR-W19 | pMOD8-pGRR-W19-RGR-W17 _X_ CEN.PK2 - MAT alpha ::: pMODKan-HO-pACT1-ZEV4 | pMOD8-pGALz4-RGR-W19 | pMOD6-pGRR-W34-yeGFP\n",
      "CEN.PK2 - MAT A ::: pMOD4G-dcas9-mxi1 | pMOD-LTR1-Kanmx-pGRR-W19-RGR-W34 | pMOD-LTR2-Bleo-pGRR-W34W17-RGR-W19 | pMOD8-pGRR-W19-RGR-W17\n"
     ]
    },
    {
     "data": {
      "image/png": "[encoded data removed]",
      "text/plain": [
       "<Figure size 216x216 with 1 Axes>"
      ]
     },
     "metadata": {
      "needs_background": "light"
     },
     "output_type": "display_data"
    },
    {
     "name": "stdout",
     "output_type": "stream",
     "text": [
      "CEN.PK2 - MAT A ::: pMOD4G-dcas9-mxi1 | pMOD-LTR2-Bleo-pGRR-W34W17-RGR-W19 | pMOD-LTR3-Kanmx-pGRR-W19-RGR-W34 | pMOD8-pGRR-W19-RGR-W17 _X_ CEN.PK2 - MAT alpha ::: pMODKan-HO-pACT1-ZEV4 | pMOD8-pGALz4-RGR-W19 | pMOD6-pGRR-W34-yeGFP\n",
      "CEN.PK2 - MAT A ::: pMOD4G-dcas9-mxi1 | pMOD-LTR2-Bleo-pGRR-W34W17-RGR-W19 | pMOD-LTR3-Kanmx-pGRR-W19-RGR-W34 | pMOD8-pGRR-W19-RGR-W17\n"
     ]
    },
    {
     "data": {
      "image/png": "[encoded data removed]",
      "text/plain": [
       "<Figure size 216x216 with 1 Axes>"
      ]
     },
     "metadata": {
      "needs_background": "light"
     },
     "output_type": "display_data"
    },
    {
     "name": "stdout",
     "output_type": "stream",
     "text": [
      "CEN.PK2 - MAT A ::: pMOD4G-dcas9-mxi1 | pMOD-LTR2-Bleo-pGRR-W34W17-RGR-W19 | pMOD-LTR3-Kanmx-pGRR-W19-RGR-W34 | pMOD6-pGRR-W5W19-RGR-W17\n",
      "CEN.PK2 - MAT A ::: pMOD4G-dcas9-mxi1 | pMOD-LTR2-Bleo-pGRR-W34W17-RGR-W19 | pMOD-LTR3-Kanmx-pGRR-W19-RGR-W34 | pMOD6-pGRR-W5W19-RGR-W17 _X_ CEN.PK2 - MAT alpha ::: pMODKan-HO-pACT1-ZEV4 | pMOD8-pGALz4-RGR-W19 | pMOD6-pGRR-W34-yeGFP\n"
     ]
    },
    {
     "data": {
      "image/png": "[encoded data removed]",
      "text/plain": [
       "<Figure size 216x216 with 1 Axes>"
      ]
     },
     "metadata": {
      "needs_background": "light"
     },
     "output_type": "display_data"
    },
    {
     "name": "stdout",
     "output_type": "stream",
     "text": [
      "CEN.PK2 - MAT A ::: pMOD4G-dcas9-mxi1 | pMOD-LTR1-NatMx-pGRR-W5-RGR-W19 | pMOD-LTR3-bleo-pGRR-W19W17-RGR-W5 | pMOD6-pGRR-W5-RGR-W17\n",
      "CEN.PK2 - MAT A ::: pMOD4G-dcas9-mxi1 | pMOD-LTR1-NatMx-pGRR-W5-RGR-W19 | pMOD-LTR3-bleo-pGRR-W19W17-RGR-W5 | pMOD6-pGRR-W5-RGR-W17 _X_ CEN.PK2 - MAT alpha ::: pMODKan-HO-pACT1-ZEV4 | pMOD8-pGALZ4-URGR-W5 | pMOD6-pGRR-W17-yeGFP\n"
     ]
    },
    {
     "data": {
      "image/png": "[encoded data removed]",
      "text/plain": [
       "<Figure size 216x216 with 1 Axes>"
      ]
     },
     "metadata": {
      "needs_background": "light"
     },
     "output_type": "display_data"
    },
    {
     "name": "stdout",
     "output_type": "stream",
     "text": [
      "CEN.PK2 - MAT A ::: pMOD4G-dcas9-mxi1 | pMOD-LTR1-NatMx-pGRR-W5-RGR-W19 | pMOD-LTR3-bleo-pGRR-W19W17-RGR-W5 | pMOD6-pGRR-W5W34-RGR-W17 _X_ CEN.PK2 - MAT alpha ::: pMODKan-HO-pACT1-ZEV4 | pMOD8-pGALZ4-URGR-W5 | pMOD6-pGRR-W17-yeGFP\n",
      "CEN.PK2 - MAT A ::: pMOD4G-dcas9-mxi1 | pMOD-LTR1-NatMx-pGRR-W5-RGR-W19 | pMOD-LTR3-bleo-pGRR-W19W17-RGR-W5 | pMOD6-pGRR-W5W34-RGR-W17\n"
     ]
    },
    {
     "data": {
      "image/png": "[encoded data removed]",
      "text/plain": [
       "<Figure size 216x216 with 1 Axes>"
      ]
     },
     "metadata": {
      "needs_background": "light"
     },
     "output_type": "display_data"
    },
    {
     "name": "stdout",
     "output_type": "stream",
     "text": [
      "CEN.PK2 - MAT A ::: pMOD4G-dcas9-mxi1 | pMOD-LTR1-NatMx-pGRR-W5-RGR-W19 | pMOD-LTR3-bleo-pGRR-W19W17-RGR-W5 | pMOD6-pGRR-F10W5-RGR-W17 _X_ CEN.PK2 - MAT alpha ::: pMODKan-HO-pACT1-ZEV4 | pMOD8-pGALZ4-URGR-W5 | pMOD6-pGRR-W17-yeGFP\n",
      "CEN.PK2 - MAT A ::: pMOD4G-dcas9-mxi1 | pMOD-LTR1-NatMx-pGRR-W5-RGR-W19 | pMOD-LTR3-bleo-pGRR-W19W17-RGR-W5 | pMOD6-pGRR-F10W5-RGR-W17\n"
     ]
    },
    {
     "data": {
      "image/png": "[encoded data removed]",
      "text/plain": [
       "<Figure size 216x216 with 1 Axes>"
      ]
     },
     "metadata": {
      "needs_background": "light"
     },
     "output_type": "display_data"
    },
    {
     "name": "stdout",
     "output_type": "stream",
     "text": [
      "CEN.PK2 - MAT A ::: pMOD4G-dcas9-mxi1 | pMOD-LTR1-NatMx-pGRR-W5-RGR-W19 | pMOD-LTR3-bleo-pGRR-W19W17-RGR-W5 | pMOD6-pGRR-F7W5-RGR-W17 _X_ CEN.PK2 - MAT alpha ::: pMODKan-HO-pACT1-ZEV4 | pMOD8-pGALZ4-URGR-W5 | pMOD6-pGRR-W17-yeGFP\n",
      "CEN.PK2 - MAT A ::: pMOD4G-dcas9-mxi1 | pMOD-LTR1-NatMx-pGRR-W5-RGR-W19 | pMOD-LTR3-bleo-pGRR-W19W17-RGR-W5 | pMOD6-pGRR-F7W5-RGR-W17\n"
     ]
    },
    {
     "data": {
      "image/png": "[encoded data removed]",
      "text/plain": [
       "<Figure size 216x216 with 1 Axes>"
      ]
     },
     "metadata": {
      "needs_background": "light"
     },
     "output_type": "display_data"
    },
    {
     "name": "stdout",
     "output_type": "stream",
     "text": [
      "CEN.PK2 - MAT A ::: pMOD4G-dcas9-mxi1 | pMOD-LTR1-NatMx-pGRR-W5-RGR-W19 | pMOD-LTR3-bleo-pGRR-W19W17-RGR-W5 | pMOD6-pGRR-F6W5-RGR-W17\n",
      "CEN.PK2 - MAT A ::: pMOD4G-dcas9-mxi1 | pMOD-LTR1-NatMx-pGRR-W5-RGR-W19 | pMOD-LTR3-bleo-pGRR-W19W17-RGR-W5 | pMOD6-pGRR-F6W5-RGR-W17 _X_ CEN.PK2 - MAT alpha ::: pMODKan-HO-pACT1-ZEV4 | pMOD8-pGALZ4-URGR-W5 | pMOD6-pGRR-W17-yeGFP\n"
     ]
    },
    {
     "data": {
      "image/png": "[encoded data removed]",
      "text/plain": [
       "<Figure size 216x216 with 1 Axes>"
      ]
     },
     "metadata": {
      "needs_background": "light"
     },
     "output_type": "display_data"
    },
    {
     "name": "stdout",
     "output_type": "stream",
     "text": [
      "CEN.PK2 - MAT A ::: pMOD4G-dcas9-mxi1 | pMOD-LTR1-NatMx-pGRR-W5-RGR-W19 | pMOD-LTR3-bleo-pGRR-W19W17-RGR-W5 | pMOD6-pGRR-F4W5-RGR-W17 _X_ CEN.PK2 - MAT alpha ::: pMODKan-HO-pACT1-ZEV4 | pMOD8-pGALZ4-URGR-W5 | pMOD6-pGRR-W17-yeGFP\n",
      "CEN.PK2 - MAT A ::: pMOD4G-dcas9-mxi1 | pMOD-LTR1-NatMx-pGRR-W5-RGR-W19 | pMOD-LTR3-bleo-pGRR-W19W17-RGR-W5 | pMOD6-pGRR-F4W5-RGR-W17\n"
     ]
    },
    {
     "data": {
      "image/png": "[encoded data removed]",
      "text/plain": [
       "<Figure size 216x216 with 1 Axes>"
      ]
     },
     "metadata": {
      "needs_background": "light"
     },
     "output_type": "display_data"
    },
    {
     "name": "stdout",
     "output_type": "stream",
     "text": [
      "CEN.PK2 - MAT A ::: pMOD4G-dcas9-mxi1 | pMOD-HOKan-pGRR-W17-RGR-W5 | pMOD-LTR3-bleo-pGRR-W19W17-RGR-W34 | pMOD6-pGRR-W5W34-RGR-W17\n",
      "CEN.PK2 - MAT A ::: pMOD4G-dcas9-mxi1 | pMOD-HOKan-pGRR-W17-RGR-W5 | pMOD-LTR3-bleo-pGRR-W19W17-RGR-W34 | pMOD6-pGRR-W5W34-RGR-W17 _X_ CEN.PK2 - MAT alpha ::: pMODKan-HO-pACT1-ZEV4 | pMOD8-pGALZ4-URGR-W17 | pMOD6-pGRR-W34-yeGFP\n"
     ]
    },
    {
     "data": {
      "image/png": "[encoded data removed]",
      "text/plain": [
       "<Figure size 216x216 with 1 Axes>"
      ]
     },
     "metadata": {
      "needs_background": "light"
     },
     "output_type": "display_data"
    },
    {
     "name": "stdout",
     "output_type": "stream",
     "text": [
      "CEN.PK2 - MAT A ::: pMOD4G-dcas9-mxi1 | pMOD-HOKan-pGRR-W17-RGR-W5 | pMOD-LTR1-Nat-pGRR-W17-RGR-W34 | pMOD6-pGRR-W5W34-RGR-W17 _X_ CEN.PK2 - MAT alpha ::: pMODKan-HO-pACT1-ZEV4 | pMOD8-pGALZ4-URGR-W17 | pMOD6-pGRR-W34-yeGFP\n",
      "CEN.PK2 - MAT A ::: pMOD4G-dcas9-mxi1 | pMOD-HOKan-pGRR-W17-RGR-W5 | pMOD-LTR1-Nat-pGRR-W17-RGR-W34 | pMOD6-pGRR-W5W34-RGR-W17\n"
     ]
    },
    {
     "data": {
      "image/png": "[encoded data removed]",
      "text/plain": [
       "<Figure size 216x216 with 1 Axes>"
      ]
     },
     "metadata": {
      "needs_background": "light"
     },
     "output_type": "display_data"
    },
    {
     "name": "stdout",
     "output_type": "stream",
     "text": [
      "CEN.PK2 - MAT A ::: pMOD4G-dcas9-mxi1 | pMOD-HOKan-pGRR-W17-RGR-W34 | pMOD-LTR3-bleo-pGRR-W19W17-RGR-W5 | pMOD6-pGRR-W5W34-RGR-W17 _X_ CEN.PK2 - MAT alpha ::: pMODKan-HO-pACT1-ZEV4 | pMOD8-pGALZ4-URGR-W17 | pMOD6-pGRR-W34-yeGFP\n",
      "CEN.PK2 - MAT A ::: pMOD4G-dcas9-mxi1 | pMOD-HOKan-pGRR-W17-RGR-W34 | pMOD-LTR3-bleo-pGRR-W19W17-RGR-W5 | pMOD6-pGRR-W5W34-RGR-W17\n"
     ]
    },
    {
     "data": {
      "image/png": "[encoded data removed]",
      "text/plain": [
       "<Figure size 216x216 with 1 Axes>"
      ]
     },
     "metadata": {
      "needs_background": "light"
     },
     "output_type": "display_data"
    },
    {
     "name": "stdout",
     "output_type": "stream",
     "text": [
      "CEN.PK2 - MAT A ::: pMOD4G-dcas9-mxi1 | pMOD-LTR1-Nat-pGRR-W17-RGR-W34 | pMOD6-pGRR-W5W34-RGR-W17 | pMOD8-pGRR-W19W17-RGR-W5 _X_ CEN.PK2 - MAT alpha ::: pMODKan-HO-pACT1-ZEV4 | pMOD8-pGALZ4-URGR-W17 | pMOD6-pGRR-W5-yeGFP\n",
      "CEN.PK2 - MAT A ::: pMOD4G-dcas9-mxi1 | pMOD-LTR1-Nat-pGRR-W17-RGR-W34 | pMOD6-pGRR-W5W34-RGR-W17 | pMOD8-pGRR-W19W17-RGR-W5\n"
     ]
    },
    {
     "data": {
      "image/png": "[encoded data removed]",
      "text/plain": [
       "<Figure size 216x216 with 1 Axes>"
      ]
     },
     "metadata": {
      "needs_background": "light"
     },
     "output_type": "display_data"
    },
    {
     "name": "stdout",
     "output_type": "stream",
     "text": [
      "CEN.PK2 - MAT A ::: pMOD4G-dcas9-mxi1 | pMOD-LTR3-bleo-pGRR-W19W17-RGR-W34 | pMOD6-pGRR-W5W34-RGR-W17 | pMOD8-pGRR-W19W17-RGR-W5\n",
      "CEN.PK2 - MAT A ::: pMOD4G-dcas9-mxi1 | pMOD-LTR3-bleo-pGRR-W19W17-RGR-W34 | pMOD6-pGRR-W5W34-RGR-W17 | pMOD8-pGRR-W19W17-RGR-W5 _X_ CEN.PK2 - MAT alpha ::: pMODKan-HO-pACT1-ZEV4 | pMOD8-pGALZ4-URGR-W17 | pMOD6-pGRR-W5-yeGFP\n"
     ]
    },
    {
     "data": {
      "image/png": "[encoded data removed]",
      "text/plain": [
       "<Figure size 216x216 with 1 Axes>"
      ]
     },
     "metadata": {
      "needs_background": "light"
     },
     "output_type": "display_data"
    },
    {
     "name": "stdout",
     "output_type": "stream",
     "text": [
      "CEN.PK2 - MAT A ::: pMOD4G-dcas9-mxi1 | pMOD-HOKan-pGRR-W17-RGR-W5 | pMOD-LTR2-Bleo-pGRR-W17W17-RGR-W19 | pMOD6-pGRR-W5W19-RGR-W17\n",
      "CEN.PK2 - MAT A ::: pMOD4G-dcas9-mxi1 | pMOD-HOKan-pGRR-W17-RGR-W5 | pMOD-LTR2-Bleo-pGRR-W17W17-RGR-W19 | pMOD6-pGRR-W5W19-RGR-W17 _X_ CEN.PK2 - MAT alpha ::: pMODKan-HO-pACT1-ZEV4 | pMOD8-pGALZ4-URGR-W17 | pMOD6-pGRR-W5-yeGFP\n"
     ]
    },
    {
     "data": {
      "image/png": "[encoded data removed]",
      "text/plain": [
       "<Figure size 216x216 with 1 Axes>"
      ]
     },
     "metadata": {
      "needs_background": "light"
     },
     "output_type": "display_data"
    },
    {
     "name": "stdout",
     "output_type": "stream",
     "text": [
      "CEN.PK2 - MAT A ::: pMOD4G-dcas9-mxi1 | pMOD-HOKan-pGRR-W17-RGR-W5 | pMOD-LTR2-Bleo-pGRR-W34W17-RGR-W19 | pMOD6-pGRR-W5W19-RGR-W17 _X_ CEN.PK2 - MAT alpha ::: pMODKan-HO-pACT1-ZEV4 | pMOD8-pGALZ4-URGR-W17 | pMOD6-pGRR-W5-yeGFP\n",
      "CEN.PK2 - MAT A ::: pMOD4G-dcas9-mxi1 | pMOD-HOKan-pGRR-W17-RGR-W5 | pMOD-LTR2-Bleo-pGRR-W34W17-RGR-W19 | pMOD6-pGRR-W5W19-RGR-W17\n"
     ]
    },
    {
     "data": {
      "image/png": "[encoded data removed]",
      "text/plain": [
       "<Figure size 216x216 with 1 Axes>"
      ]
     },
     "metadata": {
      "needs_background": "light"
     },
     "output_type": "display_data"
    },
    {
     "name": "stdout",
     "output_type": "stream",
     "text": [
      "CEN.PK2 - MAT A ::: pMOD4G-dcas9-mxi1 | pMOD-LTR3-Hyg-pGRR-W17-RGR-W34 | pMOD-LTR3-bleo-pGRR-W19W17-RGR-W5 | pMOD6-pGRR-W5W34-RGR-W17 _X_ CEN.PK2 - MAT alpha ::: pMODKan-HO-pACT1-ZEV4 | pMOD8-pGALZ4-URGR-W17 | pMOD6-pGRR-W5-yeGFP\n",
      "CEN.PK2 - MAT A ::: pMOD4G-dcas9-mxi1 | pMOD-LTR3-Hyg-pGRR-W17-RGR-W34 | pMOD-LTR3-bleo-pGRR-W19W17-RGR-W5 | pMOD6-pGRR-W5W34-RGR-W17\n"
     ]
    },
    {
     "data": {
      "image/png": "[encoded data removed]",
      "text/plain": [
       "<Figure size 216x216 with 1 Axes>"
      ]
     },
     "metadata": {
      "needs_background": "light"
     },
     "output_type": "display_data"
    },
    {
     "name": "stdout",
     "output_type": "stream",
     "text": [
      "CEN.PK2 - MAT A ::: pMOD4G-dcas9-mxi1 | pMOD-LTR1-Nat-pGRR-W17-RGR-W34 | pMOD-LTR3-bleo-pGRR-W19W17-RGR-W5 | pMOD6-pGRR-W5W34-RGR-W17\n",
      "CEN.PK2 - MAT A ::: pMOD4G-dcas9-mxi1 | pMOD-LTR1-Nat-pGRR-W17-RGR-W34 | pMOD-LTR3-bleo-pGRR-W19W17-RGR-W5 | pMOD6-pGRR-W5W34-RGR-W17 _X_ CEN.PK2 - MAT alpha ::: pMODKan-HO-pACT1-ZEV4 | pMOD8-pGALZ4-URGR-W17 | pMOD6-pGRR-W5-yeGFP\n"
     ]
    },
    {
     "data": {
      "image/png": "[encoded data removed]",
      "text/plain": [
       "<Figure size 216x216 with 1 Axes>"
      ]
     },
     "metadata": {
      "needs_background": "light"
     },
     "output_type": "display_data"
    },
    {
     "name": "stdout",
     "output_type": "stream",
     "text": [
      "CEN.PK2 - MAT A ::: pMOD4G-dcas9-mxi1 | pMOD-LTR1-NatMx-pGRR-W5-RGR-W19 | pMOD-LTR3-bleo-pGRR-W19W8-RGR-W5 | pMOD6-pGRR-W5-RGR-W8 _X_ CEN.PK2 - MAT alpha ::: pMODKan-HO-pACT1-ZEV4 | pMOD8-pGALZ4-URGR-W5 | pMOD6-pGRR-W8-yeGFP\n",
      "CEN.PK2 - MAT A ::: pMOD4G-dcas9-mxi1 | pMOD-LTR1-NatMx-pGRR-W5-RGR-W19 | pMOD-LTR3-bleo-pGRR-W19W8-RGR-W5 | pMOD6-pGRR-W5-RGR-W8\n"
     ]
    },
    {
     "data": {
      "image/png": "[encoded data removed]",
      "text/plain": [
       "<Figure size 216x216 with 1 Axes>"
      ]
     },
     "metadata": {
      "needs_background": "light"
     },
     "output_type": "display_data"
    },
    {
     "name": "stdout",
     "output_type": "stream",
     "text": [
      "CEN.PK2 - MAT A ::: pMOD4G-dcas9-mxi1 | pMOD-LTR1-Nat-pGRR-W20-RGR-W34 | pMOD-LTR2-Bleo-pGRR-W20W8-RGR-W5 | pMOD6-leu-pGRR-W5W34-RGR-W20 _X_ CEN.PK2 - MAT alpha ::: pMODKan-HO-pACT1-ZEV4 | pMOD8-pGALZ4-URGR-W20 | pMOD6-pGRR-W34-yeGFP\n",
      "CEN.PK2 - MAT A ::: pMOD4G-dcas9-mxi1 | pMOD-LTR1-Nat-pGRR-W20-RGR-W34 | pMOD-LTR2-Bleo-pGRR-W20W8-RGR-W5 | pMOD6-leu-pGRR-W5W34-RGR-W20\n"
     ]
    },
    {
     "data": {
      "image/png": "[encoded data removed]",
      "text/plain": [
       "<Figure size 216x216 with 1 Axes>"
      ]
     },
     "metadata": {
      "needs_background": "light"
     },
     "output_type": "display_data"
    }
   ],
   "source": [
    "for _g in graphs:\n",
    "    _g = _g.subgraph([n for n in _g.nodes if not is_finished(g.node[n]['sample'])])\n",
    "    ax = plt.figure(figsize=(3,3)).gca()\n",
    "    ax.axis('off')\n",
    "    for n in _g.nodes:\n",
    "        print(_g.node[n]['sample'].name)\n",
    "    plotter = GraphPlotter(_g, ax=ax)\n",
    "    plotter.topological_sort()\n",
    "    plotter.draw_graph(node_color=(0, 0, 0))\n",
    "    plt.show()"
   ]
  },
  {
   "cell_type": "code",
   "execution_count": 150,
   "metadata": {},
   "outputs": [
    {
     "data": {
      "text/plain": [
       "[27417,\n",
       " 27555,\n",
       " 27400,\n",
       " 27560,\n",
       " 27564,\n",
       " 27427,\n",
       " 27488,\n",
       " 27484,\n",
       " 27482,\n",
       " 27480,\n",
       " 27442,\n",
       " 27439,\n",
       " 27486,\n",
       " 27478,\n",
       " 27474,\n",
       " 27471,\n",
       " 27470,\n",
       " 27469,\n",
       " 27468,\n",
       " 27467,\n",
       " 27466,\n",
       " 27464,\n",
       " 27463,\n",
       " 27461,\n",
       " 27449,\n",
       " 27462,\n",
       " 27609,\n",
       " 27460,\n",
       " 27458,\n",
       " 27451,\n",
       " 27450,\n",
       " 27422,\n",
       " 27405,\n",
       " 27389,\n",
       " 27647,\n",
       " 27338,\n",
       " 27677,\n",
       " 27346,\n",
       " 27344,\n",
       " 27341,\n",
       " 27331,\n",
       " 27327,\n",
       " 27319,\n",
       " 27369,\n",
       " 27323,\n",
       " 27339,\n",
       " 27347,\n",
       " 27356,\n",
       " 27359,\n",
       " 27361,\n",
       " 27363,\n",
       " 27365,\n",
       " 27374,\n",
       " 27377,\n",
       " 27380,\n",
       " 27393,\n",
       " 27395,\n",
       " 27401,\n",
       " 27406,\n",
       " 27409,\n",
       " 27412,\n",
       " 27423,\n",
       " 27429,\n",
       " 27432,\n",
       " 27435,\n",
       " 27443,\n",
       " 27445,\n",
       " 27452,\n",
       " 27475,\n",
       " 27492,\n",
       " 27494,\n",
       " 27497,\n",
       " 27501,\n",
       " 27504,\n",
       " 27510,\n",
       " 27513]"
      ]
     },
     "execution_count": 150,
     "metadata": {},
     "output_type": "execute_result"
    }
   ],
   "source": [
    "r = roots(_g)\n",
    "r"
   ]
  },
  {
   "cell_type": "code",
   "execution_count": 142,
   "metadata": {},
   "outputs": [],
   "source": [
    "#@title Graph Plotter\n",
    "\n",
    "import collections\n",
    "import numpy as np\n",
    "import networkx as nx\n",
    "import pylab as plt\n",
    "%matplotlib inline\n",
    "\n",
    "def sorted_center(iterable, reverse=False, key=None, select=None):\n",
    "    centered = []\n",
    "    s = sorted(iterable, key=key, reverse=reverse)\n",
    "    front = False\n",
    "    for v in s:\n",
    "        if not front:\n",
    "            centered.append(v)\n",
    "        else:\n",
    "            centered.insert(0, v)\n",
    "        front = not front\n",
    "    if select:\n",
    "        return [select(_x) for _x in centered]\n",
    "    return centered\n",
    "\n",
    "class GraphPlotter(object):\n",
    "  \n",
    "  def __init__(self, graph, ax=None, pos=None):\n",
    "    if ax is None:\n",
    "      ax = plt.figure(figsize=(3,3)).gca()\n",
    "      ax.axis('off')\n",
    "      ax.set_xlim(0, 1.0)\n",
    "      ax.set_ylim(0, 1.0)\n",
    "    \n",
    "    self._ax = ax\n",
    "    self._graph = graph\n",
    "    if pos is None:\n",
    "      self._pos = dict()\n",
    "      self.spring_layout()\n",
    "    else:\n",
    "      self._pos = pos\n",
    "      \n",
    "  @property\n",
    "  def _base_draw_kwargs(self):\n",
    "    return dict(G=self._graph, ax=self._ax, pos=self._pos)\n",
    " \n",
    "  def topological_sort(self):\n",
    "    xlim = self._ax.get_xlim()\n",
    "    ylim = self._ax.get_ylim()\n",
    "    \n",
    "    x = xlim[1] - xlim[0]\n",
    "    y = ylim[1] - ylim[0]\n",
    "    xspacer = x * 0.05\n",
    "    yspacer = y * 0.05\n",
    "    \n",
    "    new_xlim = (xlim[0] + xspacer, xlim[1] - xspacer)\n",
    "    new_ylim = (ylim[0] + yspacer, ylim[1] - yspacer)\n",
    "    pos = self._topological_sort(self._graph, \n",
    "                                 xlim=new_xlim, \n",
    "                                 ylim=new_ylim)\n",
    "    self._pos = pos\n",
    "\n",
    "  @staticmethod\n",
    "  def _roots_and_leaves(G, include_cycles=False):\n",
    "    roots = [k for k, v in G.in_degree(G.nodes) if v == 0]\n",
    "    leaves = [k for k, v in G.out_degree(G.nodes) if v == 0]\n",
    "    \n",
    "    if include_cycles:\n",
    "      for c in nx.simple_cycles(G):\n",
    "        outdegree = list(G.out_degree(c))\n",
    "        outdegree.sort(key=lambda x: x[1])\n",
    "        leaves.append(outdegree[0][0])\n",
    "\n",
    "        indegree = list(G.out_degree(c))\n",
    "        indegree.sort(key=lambda x: x[1])\n",
    "        roots.append(indegree[0][0])\n",
    "    return roots, leaves\n",
    "  \n",
    "  @classmethod\n",
    "  def _get_roots(cls, G, include_cycles=False):\n",
    "    return cls._roots_and_leaves(G, include_cycles=include_cycles)[0]\n",
    "\n",
    "  @staticmethod\n",
    "  def _get_leaves(G, include_cycles=False):\n",
    "    return cls._roots_and_leaves(G, include_cycles=include_cycles)[1]\n",
    "\n",
    "  @staticmethod\n",
    "  def _get_subgraphs(graph):\n",
    "    \"\"\"Get independent subgraphs\"\"\"\n",
    "    node_list = list(graph.nodes)\n",
    "    subgraphs = []\n",
    "    while len(node_list) > 0:\n",
    "        node = node_list[-1]\n",
    "        subgraph = nx.bfs_tree(to_undirected(graph), node)\n",
    "        for n in subgraph.nodes:\n",
    "            node_list.remove(n)\n",
    "        subgraphs.append(graph.subgraph(subgraph.nodes))\n",
    "    return subgraphs\n",
    "\n",
    "  @classmethod\n",
    "  def _topological_sort(cls, G, xlim=None, ylim=None):\n",
    "    if xlim is None:\n",
    "        xlim = [0.05, 0.95]\n",
    "    if ylim is None:\n",
    "        ylim = [0.05, 0.95]\n",
    "    \n",
    "    rts = cls._get_roots(G, include_cycles=True)\n",
    "    max_depth = {}\n",
    "    for root in rts:\n",
    "        depths = nx.single_source_shortest_path_length(G, root)\n",
    "        for n, d in depths.items():\n",
    "            max_depth[n] = max(max_depth.get(n, d), d)\n",
    "\n",
    "    by_depth = collections.OrderedDict()\n",
    "\n",
    "    for node, depth in max_depth.items():\n",
    "        by_depth.setdefault(depth, [])\n",
    "        by_depth[depth].append(node)\n",
    "    \n",
    "    # center nodes with highest degree\n",
    "    for depth, nodes in by_depth.items():\n",
    "        centered = sorted_center(list(G.degree(nodes)), \n",
    "                                 key=lambda x: x[1], \n",
    "                                 reverse=True,\n",
    "                                select=lambda x: x[0])\n",
    "        by_depth[depth] = centered\n",
    "\n",
    "    # push roots 'up' so they are not stuck on layer one\n",
    "    for root in rts:\n",
    "        successors = list(G.successors(root))\n",
    "        if len(successors) > 0:\n",
    "            min_depth = min([max_depth[s] for s in successors])\n",
    "            max_depth[root] = min_depth - 1\n",
    "\n",
    "    # assign positions\n",
    "\n",
    "    y_min_max = xlim\n",
    "    x_min_max = ylim\n",
    "    max_width = max([len(layer) for layer in by_depth.values()])\n",
    "\n",
    "    y_step = (y_min_max[1] - y_min_max[0]) / (max(by_depth.keys())+1)\n",
    "    x_step = (x_min_max[1] - x_min_max[0]) / (max_width )\n",
    "    positions = {}\n",
    "\n",
    "    for depth in sorted(by_depth):\n",
    "        y = y_step * depth + y_min_max[0]\n",
    "        node_ids = by_depth[depth]\n",
    "        w = len(node_ids)\n",
    "        delta_w = max_width - w\n",
    "        for i, n in enumerate(node_ids):\n",
    "            x_offset = delta_w * x_step / 2.0\n",
    "            x = x_min_max[0] + x_offset + i * x_step\n",
    "            positions[n] = (x, y)\n",
    "    return positions\n",
    "\n",
    "  def spring_layout(self, **kwargs):\n",
    "    pos = nx.spring_layout(self._graph, **kwargs)\n",
    "    self._pos.update(pos)\n",
    "    return self._pos\n",
    "    \n",
    "  @property\n",
    "  def nodes(self):\n",
    "    return self._graph.nodes\n",
    "  \n",
    "  @property\n",
    "  def edges(self):\n",
    "    return self._graph.edges\n",
    "  \n",
    "  def node_attrs(self):\n",
    "    keys = set()\n",
    "    for _, node_data in self._graph.nodes(data=True):\n",
    "      keys.update(set(node_data.keys()))\n",
    "    attrs = {}\n",
    "    for _, node_data in self._graph.nodes(data=True):\n",
    "      for k in keys:\n",
    "        attrs.setdefault(k, list())\n",
    "        attrs[k].append(node_data.get(k, None))\n",
    "    return attrs\n",
    "  \n",
    "  def edge_attrs(self):\n",
    "    keys = set()\n",
    "    for _, _, edge_data in self._graph.edges(data=True):\n",
    "      keys.update(set(edge_data.keys()))\n",
    "    attrs = {}\n",
    "    for _, _, edge_data in self._graph.edges(data=True):\n",
    "      for k in keys:\n",
    "        attrs.setdefault(k, list())\n",
    "        attrs[k].append(edge_data.get(k, None))\n",
    "    return attrs\n",
    "  \n",
    "  def map_edge_attrs(self, attrs, source, target):\n",
    "    vals = [self._normalize(self.edge_attrs()[attr], source, target) for attr in attrs]\n",
    "    return dict(zip(attrs, vals))\n",
    "  \n",
    "  def map_node_attrs(self, attrs, source, target):\n",
    "    vals = [self._normalize(self.node_attrs()[attr], source, target) for attr in attrs]\n",
    "    return dict(zip(attrs, vals))\n",
    "  \n",
    "  def _normalize(arr, source, target):\n",
    "    x = source[1] - source[0]\n",
    "    y = target[1] - target[0]\n",
    "    return [_x/x * y + target[0] for _x in arr] \n",
    "  \n",
    "  def _make_draw_kwargs(self, **kwargs):\n",
    "    kwargs.update(self._base_draw_kwargs)\n",
    "    return kwargs\n",
    "  \n",
    "  def _draw(self, draw_function, zorder=None, **kwargs):\n",
    "    draw_kwargs = self._make_draw_kwargs(**kwargs)\n",
    "    collection = draw_function(**draw_kwargs)\n",
    "    if collection is not None and zorder is not None:\n",
    "      try:\n",
    "        # This is for compatibility with older matplotlib.\n",
    "        collection.set_zorder(zorder)\n",
    "      except AttributeError:\n",
    "        # This is for compatibility with newer matplotlib.\n",
    "        collection[0].set_zorder(zorder)\n",
    "    return collection\n",
    "\n",
    "  def draw_nodes(self, **kwargs):\n",
    "    \"\"\"Useful kwargs: nodelist, node_size, node_color, linewidths.\"\"\"\n",
    "    if (\"node_color\" in kwargs and\n",
    "        isinstance(kwargs[\"node_color\"], collections.Sequence) and\n",
    "        len(kwargs[\"node_color\"]) in {3, 4} and\n",
    "        not isinstance(kwargs[\"node_color\"][0],\n",
    "                       (collections.Sequence, np.ndarray))):\n",
    "      num_nodes = len(kwargs.get(\"nodelist\", self.nodes))\n",
    "      kwargs[\"node_color\"] = np.tile(\n",
    "          np.array(kwargs[\"node_color\"])[None], [num_nodes, 1])\n",
    "    return self._draw(nx.draw_networkx_nodes, **kwargs)\n",
    "\n",
    "  def draw_edges(self, **kwargs):\n",
    "    \"\"\"Useful kwargs: edgelist, width.\"\"\"\n",
    "    return self._draw(nx.draw_networkx_edges, **kwargs)\n",
    "  \n",
    "  def draw_graph(self,\n",
    "                 node_size=200,\n",
    "                 node_color=(0.4, 0.8, 0.4),\n",
    "                 node_linewidth=1.0,\n",
    "                 edge_width=1.0):\n",
    "    \n",
    "    node_border_color = (0.0, 0.0, 0.0, 1.0)\n",
    "    \n",
    "    # Plot nodes.\n",
    "    self.draw_nodes(\n",
    "        nodelist=self.nodes,\n",
    "        node_size=node_size,\n",
    "        node_color=node_color,\n",
    "        linewidths=node_linewidth,\n",
    "        edgecolors=node_border_color,\n",
    "        zorder=20)\n",
    "    # Plot edges.\n",
    "    self.draw_edges(edgelist=self.edges, width=edge_width, zorder=10)"
   ]
  },
  {
   "cell_type": "code",
   "execution_count": 127,
   "metadata": {},
   "outputs": [
    {
     "name": "stdout",
     "output_type": "stream",
     "text": [
      "60.0\n"
     ]
    },
    {
     "data": {
      "image/png": "[encoded data removed]",
      "text/plain": [
       "<Figure size 432x288 with 1 Axes>"
      ]
     },
     "metadata": {},
     "output_type": "display_data"
    }
   ],
   "source": [
    "_g = nx.bfs_tree(rg, leaf_nodes[1])\n",
    "nodes = list(_g.nodes())\n",
    "\n",
    "node_colors = []\n",
    "percent_complete = 0\n",
    "for n in nodes:\n",
    "    sample = g.node[n]['sample']\n",
    "    if is_finished(sample):\n",
    "        node_colors.append('blue')\n",
    "        percent_complete += 100./len(nodes)\n",
    "    else:\n",
    "        node_colors.append('red')\n",
    "print(percent_complete)\n",
    "nx.draw(_g.reverse(), node_color=node_colors)"
   ]
  },
  {
   "cell_type": "code",
   "execution_count": 13,
   "metadata": {},
   "outputs": [
    {
     "name": "stdout",
     "output_type": "stream",
     "text": [
      "103\n",
      "131\n",
      "483\n"
     ]
    }
   ],
   "source": [
    "has_glycerol_stocks = [y for y in yeasts if \"Yeast Glycerol Stock\" in [i.object_type.name for i in y.items]]\n",
    "has_yeast_plate = [y for y in yeasts if \"Yeast Plate\" in [i.object_type.name for i in y.items] or \"Yeast Glycerol Stock\" in [i.object_type.name for i in y.items]]\n",
    "\n",
    "print(len(has_glycerol_stocks))\n",
    "print(len(has_yeast_plate))\n",
    "print(len(yeasts))"
   ]
  },
  {
   "cell_type": "code",
   "execution_count": 14,
   "metadata": {},
   "outputs": [
    {
     "name": "stdout",
     "output_type": "stream",
     "text": [
      "CEN.PK2 - MAT A ::: pMOD4G-dcas9-mxi1 | pMOD-LTR1-NatMx-pGRR-W5-RGR-W19 | pMOD-LTR3-bleo-pGRR-W19W8-RGR-W5 | pMOD6-pGRR-W5-RGR-W8\n",
      "['__Part']\n",
      "Targets:\n",
      "\tCEN.PK2 - MAT A ::: pMOD4G-dcas9-mxi1 | pMOD-LTR1-NatMx-pGRR-W5-RGR-W19 | pMOD-LTR3-bleo-pGRR-W19W8-RGR-W5 | pMOD6-pGRR-W5-RGR-W8 _X_ CEN.PK2 - MAT alpha ::: pMODKan-HO-pACT1-ZEV4 | pMOD8-pGALZ4-URGR-W5 | pMOD6-pGRR-W8-yeGFP\n",
      "\n",
      "CEN.PK2 - MAT A ::: pMOD4G-dcas9-mxi1 | pMOD-LTR3-Hyg-pGRR-W17-RGR-W34 | pMOD6-pGRR-W5W34-RGR-W17 | pMOD8-pGRR-W19W17-RGR-W5\n",
      "['__Part']\n",
      "Targets:\n",
      "\tCEN.PK2 - MAT A ::: pMOD4G-dcas9-mxi1 | pMOD-LTR3-Hyg-pGRR-W17-RGR-W34 | pMOD6-pGRR-W5W34-RGR-W17 | pMOD8-pGRR-W19W17-RGR-W5 _X_ CEN.PK2 - MAT alpha ::: pMODKan-HO-pACT1-ZEV4 | pMOD8-pGALZ4-URGR-W17 | pMOD6-pGRR-W5-yeGFP\n",
      "\n",
      "CEN.PK2 - MAT A ::: pMOD4G-dcas9-mxi1 | pMOD-HOKan-pGRR-W17-RGR-W20 | pMOD-LTR1-Nat-pGRR-W5W20-RGR-W17 | pMOD8-pGRR-W19W17-RGR-W5\n",
      "['__Part']\n",
      "Targets:\n",
      "\tCEN.PK2 - MAT A ::: pMOD4G-dcas9-mxi1 | pMOD-HOKan-pGRR-W17-RGR-W20 | pMOD-LTR1-Nat-pGRR-W5W20-RGR-W17 | pMOD8-pGRR-W19W17-RGR-W5 _X_ CEN.PK2 - MAT alpha ::: pMODKan-HO-pACT1-ZEV4 | pMOD8-pGALZ4-URGR-W17 | pMOD6-pGRR-W5-yeGFP\n",
      "\n",
      "CEN.PK2 - MAT A ::: pMOD4G-dcas9-mxi1 | pMOD-LTR1-Nat-pGRR-F1W36-RGR-W20 | pMOD-LTR2-Bleo-pGRR-W20W8-RGR-W36 | pMOD6-pGRR-W36-RGR-W8\n",
      "['__Part']\n",
      "Targets:\n",
      "\tCEN.PK2 - MAT A ::: pMOD4G-dcas9-mxi1 | pMOD-LTR1-Nat-pGRR-F1W36-RGR-W20 | pMOD-LTR2-Bleo-pGRR-W20W8-RGR-W36 | pMOD6-pGRR-W36-RGR-W8 _X_ CEN.PK2 - MAT alpha ::: pMODKan-HO-pACT1-ZEV4 | pMOD8-pGALZ4-URGR-W36 | pMOD6-pGRR-W20-yeGFP\n",
      "\n",
      "CEN.PK2 - MAT A ::: pMOD4G-dcas9-mxi1 | pMOD-LTR1-Nat-pGRR-W36-RGR-W8 | pMOD-LTR2-Bleo-pGRR-W20W8-RGR-W36 | pMOD6-pGRR-W36-RGR-W20\n",
      "['__Part']\n",
      "Targets:\n",
      "\tCEN.PK2 - MAT A ::: pMOD4G-dcas9-mxi1 | pMOD-LTR1-Nat-pGRR-W36-RGR-W8 | pMOD-LTR2-Bleo-pGRR-W20W8-RGR-W36 | pMOD6-pGRR-W36-RGR-W20 _X_ CEN.PK2 - MAT alpha ::: pMODKan-HO-pACT1-ZEV4 | pMOD8-pGALZ4-URGR-W36 | pMOD6-pGRR-W20-yeGFP\n",
      "\n",
      "CEN.PK2 - MAT A ::: pMOD4G-dcas9-mxi1 | pMOD-LTR1-NatMx-pGRR-W5-RGR-W19 | pMOD-LTR3-bleo-pGRR-W19W17-RGR-W5 | pMOD6-pGRR-W5W19-RGR-W17\n",
      "['Yeast Glycerol Stock', '__Part', 'Yeast Plate']\n",
      "Targets:\n",
      "\tCEN.PK2 - MAT A ::: pMOD4G-dcas9-mxi1 | pMOD-LTR1-NatMx-pGRR-W5-RGR-W19 | pMOD-LTR3-bleo-pGRR-W19W17-RGR-W5 | pMOD6-pGRR-W5W19-RGR-W17 _X_ CEN.PK2 - MAT alpha ::: pMODKan-HO-pACT1-ZEV4 | pMOD8-pGALZ4-URGR-W5 | pMOD6-pGRR-W19-yeGFP\n",
      "\n",
      "CEN.PK2 - MAT A ::: pMOD4G-dcas9-mxi1 | pMOD-LTR1-NatMx-pGRR-W5-RGR-W19 | pMOD-LTR3-bleo-pGRR-W19W17-RGR-W5 | pMOD6-pGRR-W19W5-RGR-W17\n",
      "['Yeast Glycerol Stock', '__Part', 'Yeast Plate']\n",
      "Targets:\n",
      "\tCEN.PK2 - MAT A ::: pMOD4G-dcas9-mxi1 | pMOD-LTR1-NatMx-pGRR-W5-RGR-W19 | pMOD-LTR3-bleo-pGRR-W19W17-RGR-W5 | pMOD6-pGRR-W19W5-RGR-W17 _X_ CEN.PK2 - MAT alpha ::: pMODKan-HO-pACT1-ZEV4 | pMOD8-pGALZ4-URGR-W5 | pMOD6-pGRR-W19-yeGFP\n",
      "\n",
      "CEN.PK2 - MAT A ::: pMOD4G-dcas9-mxi1 | pMOD-LTR1-NatMx-pGRR-W5-RGR-W19 | pMOD6-pGRR-W5W19-RGR-W17 | pMOD8-pGRR-W19W17-RGR-W5\n",
      "['__Part', 'Yeast Plate']\n",
      "Targets:\n",
      "\tCEN.PK2 - MAT A ::: pMOD4G-dcas9-mxi1 | pMOD-LTR1-NatMx-pGRR-W5-RGR-W19 | pMOD6-pGRR-W5W19-RGR-W17 | pMOD8-pGRR-W19W17-RGR-W5 _X_ CEN.PK2 - MAT alpha ::: pMODKan-HO-pACT1-ZEV4 | pMOD8-pGALZ4-URGR-W5 | pMOD6-pGRR-W19-yeGFP\n",
      "\n",
      "CEN.PK2 - MAT A ::: pMOD4G-dcas9-mxi1 | pMOD-LTR1-NatMx-pGRR-W5-RGR-W19 | pMOD6-pGRR-W19W5-RGR-W17 | pMOD8-pGRR-W19W17-RGR-W5\n",
      "['Yeast Glycerol Stock', '__Part', 'Yeast Plate']\n",
      "Targets:\n",
      "\tCEN.PK2 - MAT A ::: pMOD4G-dcas9-mxi1 | pMOD-LTR1-NatMx-pGRR-W5-RGR-W19 | pMOD6-pGRR-W19W5-RGR-W17 | pMOD8-pGRR-W19W17-RGR-W5 _X_ CEN.PK2 - MAT alpha ::: pMODKan-HO-pACT1-ZEV4 | pMOD8-pGALZ4-URGR-W5 | pMOD6-pGRR-W19-yeGFP\n",
      "\n",
      "CEN.PK2 - MAT A ::: pMOD4G-dcas9-mxi1 | pMOD-HO-Leu2-pGRR-W8W36-RGR-W20 | pMOD-LTR1-Nat-pGRR-W36-RGR-W8 | pMOD-LTR2-Bleo-pGRR-W20W8-RGR-W36\n",
      "['Yeast Glycerol Stock', '__Part', 'Yeast Plate']\n",
      "Targets:\n",
      "\tCEN.PK2 - MAT A ::: pMOD4G-dcas9-mxi1 | pMOD-HO-Leu2-pGRR-W8W36-RGR-W20 | pMOD-LTR1-Nat-pGRR-W36-RGR-W8 | pMOD-LTR2-Bleo-pGRR-W20W8-RGR-W36 _X_ CEN.PK2 - MAT alpha ::: pMODKan-HO-pACT1-ZEV4 | pMOD8-pGALZ4-URGR-W36 | pMOD6-pGRR-W8-yeGFP\n",
      "\n",
      "CEN.PK2 - MAT A ::: pMOD4G-dcas9-mxi1 | pMOD-HO-Leu2-pGRR-W8W36-RGR-W20 | pMOD-LTR2-Bleo-pGRR-W20W8-RGR-W36 | pMOD6-pGRR-W36-RGR-W8\n",
      "['__Part', 'Yeast Plate']\n",
      "Targets:\n",
      "\tCEN.PK2 - MAT A ::: pMOD4G-dcas9-mxi1 | pMOD-HO-Leu2-pGRR-W8W36-RGR-W20 | pMOD-LTR2-Bleo-pGRR-W20W8-RGR-W36 | pMOD6-pGRR-W36-RGR-W8 _X_ CEN.PK2 - MAT alpha ::: pMODKan-HO-pACT1-ZEV4 | pMOD8-pGALZ4-URGR-W36 | pMOD6-pGRR-W8-yeGFP\n",
      "\n",
      "CEN.PK2 - MAT A ::: pMOD4G-dcas9-mxi1 | pMOD-HOKan-pGRR-W36W8-RGR-W20 | pMOD-LTR1-Nat-pGRR-W36-RGR-W8 | pMOD-LTR2-Bleo-pGRR-W20W8-RGR-W36\n",
      "['Yeast Glycerol Stock', '__Part', 'Yeast Plate']\n",
      "Targets:\n",
      "\tCEN.PK2 - MAT A ::: pMOD4G-dcas9-mxi1 | pMOD-HOKan-pGRR-W36W8-RGR-W20 | pMOD-LTR1-Nat-pGRR-W36-RGR-W8 | pMOD-LTR2-Bleo-pGRR-W20W8-RGR-W36 _X_ CEN.PK2 - MAT alpha ::: pMODKan-HO-pACT1-ZEV4 | pMOD8-pGALZ4-URGR-W36 | pMOD6-pGRR-W8-yeGFP\n",
      "\n",
      "CEN.PK2 - MAT A ::: pMOD4G-dcas9-mxi1 | pMOD-HOKan-pGRR-W8W36-RGR-W20 | pMOD-LTR1-Nat-pGRR-W36-RGR-W8 | pMOD-LTR2-Bleo-pGRR-W20W8-RGR-W36\n",
      "['Yeast Glycerol Stock', '__Part', 'Yeast Plate']\n",
      "Targets:\n",
      "\tCEN.PK2 - MAT A ::: pMOD4G-dcas9-mxi1 | pMOD-HOKan-pGRR-W8W36-RGR-W20 | pMOD-LTR1-Nat-pGRR-W36-RGR-W8 | pMOD-LTR2-Bleo-pGRR-W20W8-RGR-W36 _X_ CEN.PK2 - MAT alpha ::: pMODKan-HO-pACT1-ZEV4 | pMOD8-pGALZ4-URGR-W36 | pMOD6-pGRR-W8-yeGFP\n",
      "\n"
     ]
    }
   ],
   "source": [
    "ready_for_mating = []\n",
    "\n",
    "for row in summary_dicts:\n",
    "    y = row['yeast']\n",
    "    if row['maximum_depth'] <= 2 and row['has_items'] and y.properties['Mating Type'].lower() == \"mata\":\n",
    "        print(y.name)\n",
    "        print(row['item_types'])\n",
    "        print(\"Targets:\")\n",
    "        for t in row['targets'][1:]:\n",
    "            print('', end='\\t')\n",
    "            print(t)\n",
    "        print()"
   ]
  },
  {
   "cell_type": "code",
   "execution_count": 15,
   "metadata": {},
   "outputs": [],
   "source": [
    "field_values = []\n",
    "for y in yeasts:\n",
    "    item_types = [i.object_type.name for i in y.items]\n",
    "    if 'Yeast Glycerol Stock' not in item_types and 'Yeast Plate' in item_types:\n",
    "        yeast_plates = [i for i in y.items if i.object_type.name == 'Yeast Plate']\n",
    "        fvs = browser.where({\"child_item_id\": [y.id for y in yeast_plates], \"role\": \"output\"}, model_class=\"FieldValue\")\n",
    "        field_values += fvs\n",
    "        \n"
   ]
  },
  {
   "cell_type": "markdown",
   "metadata": {},
   "source": [
    "**Collect all designs**\n",
    "* name\n",
    "* description\n",
    "* sample id\n",
    "* parts list\n",
    "* is an intermediate strain?\n",
    "* end goal sample\n",
    "* design topology (G1, G2, B)\n",
    "* diploid\n",
    "* item progress (yeast glycerol stock, plate, failures?)\n",
    "\n",
    "**To Be End Goal, must be diploid, have a GFP and have Mxi1**"
   ]
  },
  {
   "cell_type": "markdown",
   "metadata": {},
   "source": [
    "**Yeast Progress**\n",
    "\n",
    "1. find plan\n",
    "2. find operations with yeast sample\n",
    "3. report status of latest"
   ]
  },
  {
   "cell_type": "code",
   "execution_count": 16,
   "metadata": {},
   "outputs": [
    {
     "ename": "FileNotFoundError",
     "evalue": "[Errno 2] File b'valid_3node_circuits.csv' does not exist: b'valid_3node_circuits.csv'",
     "output_type": "error",
     "traceback": [
      "\u001b[0;31m---------------------------------------------------------------------------\u001b[0m",
      "\u001b[0;31mFileNotFoundError\u001b[0m                         Traceback (most recent call last)",
      "\u001b[0;32m<ipython-input-16-e7b9fb6f98d0>\u001b[0m in \u001b[0;36m<module>\u001b[0;34m\u001b[0m\n\u001b[1;32m      1\u001b[0m \u001b[0;32mimport\u001b[0m \u001b[0mpandas\u001b[0m \u001b[0;32mas\u001b[0m \u001b[0mpd\u001b[0m\u001b[0;34m\u001b[0m\u001b[0;34m\u001b[0m\u001b[0m\n\u001b[1;32m      2\u001b[0m \u001b[0;34m\u001b[0m\u001b[0m\n\u001b[0;32m----> 3\u001b[0;31m \u001b[0mdf\u001b[0m \u001b[0;34m=\u001b[0m \u001b[0mpd\u001b[0m\u001b[0;34m.\u001b[0m\u001b[0mread_csv\u001b[0m\u001b[0;34m(\u001b[0m\u001b[0;34m\"valid_3node_circuits.csv\"\u001b[0m\u001b[0;34m)\u001b[0m\u001b[0;34m\u001b[0m\u001b[0;34m\u001b[0m\u001b[0m\n\u001b[0m\u001b[1;32m      4\u001b[0m \u001b[0mlen\u001b[0m\u001b[0;34m(\u001b[0m\u001b[0mlist\u001b[0m\u001b[0;34m(\u001b[0m\u001b[0mdf\u001b[0m\u001b[0;34m.\u001b[0m\u001b[0mgroupby\u001b[0m\u001b[0;34m(\u001b[0m\u001b[0;34m\"design\"\u001b[0m\u001b[0;34m)\u001b[0m\u001b[0;34m)\u001b[0m\u001b[0;34m)\u001b[0m\u001b[0;34m\u001b[0m\u001b[0;34m\u001b[0m\u001b[0m\n",
      "\u001b[0;32m/anaconda/lib/python3.6/site-packages/pandas/io/parsers.py\u001b[0m in \u001b[0;36mparser_f\u001b[0;34m(filepath_or_buffer, sep, delimiter, header, names, index_col, usecols, squeeze, prefix, mangle_dupe_cols, dtype, engine, converters, true_values, false_values, skipinitialspace, skiprows, skipfooter, nrows, na_values, keep_default_na, na_filter, verbose, skip_blank_lines, parse_dates, infer_datetime_format, keep_date_col, date_parser, dayfirst, iterator, chunksize, compression, thousands, decimal, lineterminator, quotechar, quoting, doublequote, escapechar, comment, encoding, dialect, tupleize_cols, error_bad_lines, warn_bad_lines, delim_whitespace, low_memory, memory_map, float_precision)\u001b[0m\n\u001b[1;32m    700\u001b[0m                     skip_blank_lines=skip_blank_lines)\n\u001b[1;32m    701\u001b[0m \u001b[0;34m\u001b[0m\u001b[0m\n\u001b[0;32m--> 702\u001b[0;31m         \u001b[0;32mreturn\u001b[0m \u001b[0m_read\u001b[0m\u001b[0;34m(\u001b[0m\u001b[0mfilepath_or_buffer\u001b[0m\u001b[0;34m,\u001b[0m \u001b[0mkwds\u001b[0m\u001b[0;34m)\u001b[0m\u001b[0;34m\u001b[0m\u001b[0;34m\u001b[0m\u001b[0m\n\u001b[0m\u001b[1;32m    703\u001b[0m \u001b[0;34m\u001b[0m\u001b[0m\n\u001b[1;32m    704\u001b[0m     \u001b[0mparser_f\u001b[0m\u001b[0;34m.\u001b[0m\u001b[0m__name__\u001b[0m \u001b[0;34m=\u001b[0m \u001b[0mname\u001b[0m\u001b[0;34m\u001b[0m\u001b[0;34m\u001b[0m\u001b[0m\n",
      "\u001b[0;32m/anaconda/lib/python3.6/site-packages/pandas/io/parsers.py\u001b[0m in \u001b[0;36m_read\u001b[0;34m(filepath_or_buffer, kwds)\u001b[0m\n\u001b[1;32m    427\u001b[0m \u001b[0;34m\u001b[0m\u001b[0m\n\u001b[1;32m    428\u001b[0m     \u001b[0;31m# Create the parser.\u001b[0m\u001b[0;34m\u001b[0m\u001b[0;34m\u001b[0m\u001b[0;34m\u001b[0m\u001b[0m\n\u001b[0;32m--> 429\u001b[0;31m     \u001b[0mparser\u001b[0m \u001b[0;34m=\u001b[0m \u001b[0mTextFileReader\u001b[0m\u001b[0;34m(\u001b[0m\u001b[0mfilepath_or_buffer\u001b[0m\u001b[0;34m,\u001b[0m \u001b[0;34m**\u001b[0m\u001b[0mkwds\u001b[0m\u001b[0;34m)\u001b[0m\u001b[0;34m\u001b[0m\u001b[0;34m\u001b[0m\u001b[0m\n\u001b[0m\u001b[1;32m    430\u001b[0m \u001b[0;34m\u001b[0m\u001b[0m\n\u001b[1;32m    431\u001b[0m     \u001b[0;32mif\u001b[0m \u001b[0mchunksize\u001b[0m \u001b[0;32mor\u001b[0m \u001b[0miterator\u001b[0m\u001b[0;34m:\u001b[0m\u001b[0;34m\u001b[0m\u001b[0;34m\u001b[0m\u001b[0m\n",
      "\u001b[0;32m/anaconda/lib/python3.6/site-packages/pandas/io/parsers.py\u001b[0m in \u001b[0;36m__init__\u001b[0;34m(self, f, engine, **kwds)\u001b[0m\n\u001b[1;32m    893\u001b[0m             \u001b[0mself\u001b[0m\u001b[0;34m.\u001b[0m\u001b[0moptions\u001b[0m\u001b[0;34m[\u001b[0m\u001b[0;34m'has_index_names'\u001b[0m\u001b[0;34m]\u001b[0m \u001b[0;34m=\u001b[0m \u001b[0mkwds\u001b[0m\u001b[0;34m[\u001b[0m\u001b[0;34m'has_index_names'\u001b[0m\u001b[0;34m]\u001b[0m\u001b[0;34m\u001b[0m\u001b[0;34m\u001b[0m\u001b[0m\n\u001b[1;32m    894\u001b[0m \u001b[0;34m\u001b[0m\u001b[0m\n\u001b[0;32m--> 895\u001b[0;31m         \u001b[0mself\u001b[0m\u001b[0;34m.\u001b[0m\u001b[0m_make_engine\u001b[0m\u001b[0;34m(\u001b[0m\u001b[0mself\u001b[0m\u001b[0;34m.\u001b[0m\u001b[0mengine\u001b[0m\u001b[0;34m)\u001b[0m\u001b[0;34m\u001b[0m\u001b[0;34m\u001b[0m\u001b[0m\n\u001b[0m\u001b[1;32m    896\u001b[0m \u001b[0;34m\u001b[0m\u001b[0m\n\u001b[1;32m    897\u001b[0m     \u001b[0;32mdef\u001b[0m \u001b[0mclose\u001b[0m\u001b[0;34m(\u001b[0m\u001b[0mself\u001b[0m\u001b[0;34m)\u001b[0m\u001b[0;34m:\u001b[0m\u001b[0;34m\u001b[0m\u001b[0;34m\u001b[0m\u001b[0m\n",
      "\u001b[0;32m/anaconda/lib/python3.6/site-packages/pandas/io/parsers.py\u001b[0m in \u001b[0;36m_make_engine\u001b[0;34m(self, engine)\u001b[0m\n\u001b[1;32m   1120\u001b[0m     \u001b[0;32mdef\u001b[0m \u001b[0m_make_engine\u001b[0m\u001b[0;34m(\u001b[0m\u001b[0mself\u001b[0m\u001b[0;34m,\u001b[0m \u001b[0mengine\u001b[0m\u001b[0;34m=\u001b[0m\u001b[0;34m'c'\u001b[0m\u001b[0;34m)\u001b[0m\u001b[0;34m:\u001b[0m\u001b[0;34m\u001b[0m\u001b[0;34m\u001b[0m\u001b[0m\n\u001b[1;32m   1121\u001b[0m         \u001b[0;32mif\u001b[0m \u001b[0mengine\u001b[0m \u001b[0;34m==\u001b[0m \u001b[0;34m'c'\u001b[0m\u001b[0;34m:\u001b[0m\u001b[0;34m\u001b[0m\u001b[0;34m\u001b[0m\u001b[0m\n\u001b[0;32m-> 1122\u001b[0;31m             \u001b[0mself\u001b[0m\u001b[0;34m.\u001b[0m\u001b[0m_engine\u001b[0m \u001b[0;34m=\u001b[0m \u001b[0mCParserWrapper\u001b[0m\u001b[0;34m(\u001b[0m\u001b[0mself\u001b[0m\u001b[0;34m.\u001b[0m\u001b[0mf\u001b[0m\u001b[0;34m,\u001b[0m \u001b[0;34m**\u001b[0m\u001b[0mself\u001b[0m\u001b[0;34m.\u001b[0m\u001b[0moptions\u001b[0m\u001b[0;34m)\u001b[0m\u001b[0;34m\u001b[0m\u001b[0;34m\u001b[0m\u001b[0m\n\u001b[0m\u001b[1;32m   1123\u001b[0m         \u001b[0;32melse\u001b[0m\u001b[0;34m:\u001b[0m\u001b[0;34m\u001b[0m\u001b[0;34m\u001b[0m\u001b[0m\n\u001b[1;32m   1124\u001b[0m             \u001b[0;32mif\u001b[0m \u001b[0mengine\u001b[0m \u001b[0;34m==\u001b[0m \u001b[0;34m'python'\u001b[0m\u001b[0;34m:\u001b[0m\u001b[0;34m\u001b[0m\u001b[0;34m\u001b[0m\u001b[0m\n",
      "\u001b[0;32m/anaconda/lib/python3.6/site-packages/pandas/io/parsers.py\u001b[0m in \u001b[0;36m__init__\u001b[0;34m(self, src, **kwds)\u001b[0m\n\u001b[1;32m   1851\u001b[0m         \u001b[0mkwds\u001b[0m\u001b[0;34m[\u001b[0m\u001b[0;34m'usecols'\u001b[0m\u001b[0;34m]\u001b[0m \u001b[0;34m=\u001b[0m \u001b[0mself\u001b[0m\u001b[0;34m.\u001b[0m\u001b[0musecols\u001b[0m\u001b[0;34m\u001b[0m\u001b[0;34m\u001b[0m\u001b[0m\n\u001b[1;32m   1852\u001b[0m \u001b[0;34m\u001b[0m\u001b[0m\n\u001b[0;32m-> 1853\u001b[0;31m         \u001b[0mself\u001b[0m\u001b[0;34m.\u001b[0m\u001b[0m_reader\u001b[0m \u001b[0;34m=\u001b[0m \u001b[0mparsers\u001b[0m\u001b[0;34m.\u001b[0m\u001b[0mTextReader\u001b[0m\u001b[0;34m(\u001b[0m\u001b[0msrc\u001b[0m\u001b[0;34m,\u001b[0m \u001b[0;34m**\u001b[0m\u001b[0mkwds\u001b[0m\u001b[0;34m)\u001b[0m\u001b[0;34m\u001b[0m\u001b[0;34m\u001b[0m\u001b[0m\n\u001b[0m\u001b[1;32m   1854\u001b[0m         \u001b[0mself\u001b[0m\u001b[0;34m.\u001b[0m\u001b[0munnamed_cols\u001b[0m \u001b[0;34m=\u001b[0m \u001b[0mself\u001b[0m\u001b[0;34m.\u001b[0m\u001b[0m_reader\u001b[0m\u001b[0;34m.\u001b[0m\u001b[0munnamed_cols\u001b[0m\u001b[0;34m\u001b[0m\u001b[0;34m\u001b[0m\u001b[0m\n\u001b[1;32m   1855\u001b[0m \u001b[0;34m\u001b[0m\u001b[0m\n",
      "\u001b[0;32mpandas/_libs/parsers.pyx\u001b[0m in \u001b[0;36mpandas._libs.parsers.TextReader.__cinit__\u001b[0;34m()\u001b[0m\n",
      "\u001b[0;32mpandas/_libs/parsers.pyx\u001b[0m in \u001b[0;36mpandas._libs.parsers.TextReader._setup_parser_source\u001b[0;34m()\u001b[0m\n",
      "\u001b[0;31mFileNotFoundError\u001b[0m: [Errno 2] File b'valid_3node_circuits.csv' does not exist: b'valid_3node_circuits.csv'"
     ]
    }
   ],
   "source": [
    "import pandas as pd\n",
    "\n",
    "df = pd.read_csv(\"valid_3node_circuits.csv\")\n",
    "len(list(df.groupby(\"design\")))"
   ]
  },
  {
   "cell_type": "markdown",
   "metadata": {},
   "source": [
    "# Make Diploid Strains"
   ]
  },
  {
   "cell_type": "code",
   "execution_count": 33,
   "metadata": {},
   "outputs": [],
   "source": [
    "alpha_strains = [y for y in yeasts if 'alpha' in y.properties['Mating Type'] and 'GFP' in y.name]\n",
    "diploids = []\n",
    "\n",
    "for alpha in alpha_strains:\n",
    "    data = json.loads(alpha.description)\n",
    "    a_strain_ids = data['a_strains']\n",
    "    a_strains = browser.find(a_strain_ids)\n",
    "    \n",
    "    for a in a_strains:\n",
    "        new_yeast = ' _X_ '.join([a.name, alpha.name])\n",
    "        diploids.append(new_yeast)"
   ]
  },
  {
   "cell_type": "code",
   "execution_count": 34,
   "metadata": {},
   "outputs": [
    {
     "name": "stdout",
     "output_type": "stream",
     "text": [
      "found\n",
      "found\n",
      "found\n",
      "found\n",
      "found\n",
      "found\n",
      "found\n",
      "found\n",
      "found\n",
      "found\n",
      "found\n",
      "found\n",
      "found\n",
      "found\n",
      "found\n",
      "found\n",
      "found\n",
      "found\n",
      "found\n",
      "found\n",
      "found\n",
      "found\n",
      "found\n",
      "found\n",
      "found\n",
      "found\n",
      "found\n",
      "found\n",
      "found\n",
      "found\n",
      "found\n",
      "found\n",
      "found\n",
      "found\n",
      "found\n",
      "found\n",
      "found\n",
      "found\n",
      "found\n",
      "found\n",
      "found\n",
      "found\n",
      "found\n",
      "found\n",
      "found\n",
      "found\n",
      "found\n",
      "found\n",
      "found\n",
      "found\n",
      "found\n",
      "found\n",
      "found\n",
      "found\n",
      "found\n",
      "found\n",
      "found\n",
      "found\n",
      "found\n",
      "found\n",
      "found\n",
      "found\n",
      "found\n",
      "found\n",
      "found\n",
      "found\n",
      "found\n",
      "found\n",
      "found\n",
      "found\n",
      "found\n",
      "found\n",
      "found\n",
      "found\n",
      "found\n",
      "found\n",
      "found\n",
      "found\n",
      "found\n",
      "found\n",
      "found\n",
      "found\n",
      "found\n",
      "found\n",
      "found\n",
      "found\n",
      "found\n",
      "found\n",
      "found\n",
      "found\n",
      "found\n",
      "found\n",
      "found\n",
      "found\n",
      "found\n",
      "found\n",
      "found\n",
      "found\n",
      "found\n",
      "found\n",
      "found\n",
      "found\n",
      "found\n",
      "found\n",
      "found\n",
      "found\n",
      "found\n",
      "found\n",
      "found\n",
      "found\n",
      "found\n",
      "found\n",
      "found\n",
      "found\n",
      "found\n",
      "found\n",
      "found\n",
      "found\n",
      "found\n",
      "found\n",
      "found\n",
      "found\n"
     ]
    }
   ],
   "source": [
    "for dname in diploids:\n",
    "    sample = browser.find_by_name(dname)\n",
    "    if not sample:\n",
    "        print(dname)\n",
    "    else:\n",
    "        print(\"found\")"
   ]
  },
  {
   "cell_type": "code",
   "execution_count": null,
   "metadata": {},
   "outputs": [],
   "source": []
  }
 ],
 "metadata": {
  "kernelspec": {
   "display_name": "Python 3",
   "language": "python",
   "name": "python3"
  },
  "language_info": {
   "codemirror_mode": {
    "name": "ipython",
    "version": 3
   },
   "file_extension": ".py",
   "mimetype": "text/x-python",
   "name": "python",
   "nbconvert_exporter": "python",
   "pygments_lexer": "ipython3",
   "version": "3.7.3"
  }
 },
 "nbformat": 4,
 "nbformat_minor": 2
}
